{
  "nbformat": 4,
  "nbformat_minor": 0,
  "metadata": {
    "colab": {
      "provenance": [],
      "authorship_tag": "ABX9TyPHT3xDKVN5/4kGlGXJzW0Y",
      "include_colab_link": true
    },
    "kernelspec": {
      "name": "python3",
      "display_name": "Python 3"
    },
    "language_info": {
      "name": "python"
    }
  },
  "cells": [
    {
      "cell_type": "markdown",
      "metadata": {
        "id": "view-in-github",
        "colab_type": "text"
      },
      "source": [
        "<a href=\"https://colab.research.google.com/github/regondolajezreel/CPE-103-OP-1-A/blob/main/PythonFundamentals.ipynb\" target=\"_parent\"><img src=\"https://colab.research.google.com/assets/colab-badge.svg\" alt=\"Open In Colab\"/></a>"
      ]
    },
    {
      "cell_type": "markdown",
      "source": [
        "Python Indentation"
      ],
      "metadata": {
        "id": "fypvtkDNFgKP"
      }
    },
    {
      "cell_type": "code",
      "source": [
        "x = 5\n",
        "y = 2\n",
        "if x > y:\n",
        "  print(\"Five is greater than two!\")"
      ],
      "metadata": {
        "colab": {
          "base_uri": "https://localhost:8080/"
        },
        "id": "sZry8nb4Fo53",
        "outputId": "28e53008-3581-4499-ee2a-b5ae3480c5b4"
      },
      "execution_count": 7,
      "outputs": [
        {
          "output_type": "stream",
          "name": "stdout",
          "text": [
            "Five is greater than two!\n"
          ]
        }
      ]
    },
    {
      "cell_type": "markdown",
      "source": [
        "Python Comments"
      ],
      "metadata": {
        "id": "kNAWDxz6Irl4"
      }
    },
    {
      "cell_type": "code",
      "source": [
        "#This is a comment\n",
        "print(\"Hello World!\")"
      ],
      "metadata": {
        "colab": {
          "base_uri": "https://localhost:8080/"
        },
        "id": "htj7ta2CIthI",
        "outputId": "0eb83efc-4959-486c-a3a1-13c7c945616a"
      },
      "execution_count": 5,
      "outputs": [
        {
          "output_type": "stream",
          "name": "stdout",
          "text": [
            "Hello World!\n"
          ]
        }
      ]
    },
    {
      "cell_type": "markdown",
      "source": [
        "Variable Naming Conventions"
      ],
      "metadata": {
        "id": "bszAkU_3Ji97"
      }
    },
    {
      "cell_type": "code",
      "source": [
        "x =1\n",
        "a, b = 0, -1\n",
        "a, b, c = 0, -1, 2\n",
        "\n",
        "#Others\n",
        "d = \"Sally\" #This is a type of a string\n",
        "\n",
        "print(a)\n",
        "print(b)\n",
        "print(c)\n",
        "print(d)"
      ],
      "metadata": {
        "colab": {
          "base_uri": "https://localhost:8080/"
        },
        "id": "py47C_-KJktP",
        "outputId": "e1727a11-d276-4508-dafe-707f936cafeb"
      },
      "execution_count": 14,
      "outputs": [
        {
          "output_type": "stream",
          "name": "stdout",
          "text": [
            "0\n",
            "-1\n",
            "2\n",
            "Sally\n"
          ]
        }
      ]
    },
    {
      "cell_type": "markdown",
      "source": [
        "Casting"
      ],
      "metadata": {
        "id": "dGq4h2maMBef"
      }
    },
    {
      "cell_type": "code",
      "source": [
        "b = \"sally\" #This is a type of string\n",
        "b = int(4)\n",
        "print(b)\n",
        "\n",
        "b = float(4)\n",
        "print(b)"
      ],
      "metadata": {
        "colab": {
          "base_uri": "https://localhost:8080/"
        },
        "id": "JmFLUfI5MB-u",
        "outputId": "1c325b17-fae8-4c32-87c9-377daf381774"
      },
      "execution_count": 16,
      "outputs": [
        {
          "output_type": "stream",
          "name": "stdout",
          "text": [
            "4\n",
            "4.0\n"
          ]
        }
      ]
    },
    {
      "cell_type": "markdown",
      "source": [
        "Type () Functions"
      ],
      "metadata": {
        "id": "ZSyeIOWpMqYf"
      }
    },
    {
      "cell_type": "code",
      "source": [
        "x = 5\n",
        "y = \"john\"\n",
        "\n",
        "print(type(x))\n",
        "print(type(y))"
      ],
      "metadata": {
        "colab": {
          "base_uri": "https://localhost:8080/"
        },
        "id": "N-I6aFMhMq63",
        "outputId": "d6279d9c-527f-416e-b6f1-a75825b10fca"
      },
      "execution_count": 17,
      "outputs": [
        {
          "output_type": "stream",
          "name": "stdout",
          "text": [
            "<class 'int'>\n",
            "<class 'str'>\n"
          ]
        }
      ]
    },
    {
      "cell_type": "markdown",
      "source": [
        "\"Double Quotes\" or 'Single Quotes'"
      ],
      "metadata": {
        "id": "oJi5kCXHM7j_"
      }
    },
    {
      "cell_type": "code",
      "source": [
        "y = \"John\"\n",
        "y = 'John'\n",
        "\n",
        "print(y)\n",
        "print(Y)"
      ],
      "metadata": {
        "colab": {
          "base_uri": "https://localhost:8080/",
          "height": 35
        },
        "id": "54TRENd5M8nX",
        "outputId": "efc3238f-c737-46da-ad76-4cffad69a6a5"
      },
      "execution_count": 19,
      "outputs": [
        {
          "output_type": "execute_result",
          "data": {
            "text/plain": [
              "'John'"
            ],
            "application/vnd.google.colaboratory.intrinsic+json": {
              "type": "string"
            }
          },
          "metadata": {},
          "execution_count": 19
        }
      ]
    },
    {
      "cell_type": "markdown",
      "source": [
        "Case Sensitive"
      ],
      "metadata": {
        "id": "wQWSA0-8NR1f"
      }
    },
    {
      "cell_type": "code",
      "source": [
        "a = 4\n",
        "A = \"Sally\"\n",
        "#A will not overwrite a\n",
        "\n",
        "a"
      ],
      "metadata": {
        "colab": {
          "base_uri": "https://localhost:8080/"
        },
        "id": "6_iifbxsNSbn",
        "outputId": "bed5f031-6a48-40a5-8d47-9c87bfadd52d"
      },
      "execution_count": 21,
      "outputs": [
        {
          "output_type": "execute_result",
          "data": {
            "text/plain": [
              "4"
            ]
          },
          "metadata": {},
          "execution_count": 21
        }
      ]
    },
    {
      "cell_type": "markdown",
      "source": [
        "Multiple Variables"
      ],
      "metadata": {
        "id": "sRgh83f_NgdY"
      }
    },
    {
      "cell_type": "code",
      "source": [
        "x, y, z = \"one\", \"two\", \"three\"\n",
        "print(x)\n",
        "print(y)\n",
        "print(z)"
      ],
      "metadata": {
        "colab": {
          "base_uri": "https://localhost:8080/"
        },
        "id": "_LVsM1aLNhsA",
        "outputId": "c289191a-bf45-45c0-bec4-2d03c76a7c29"
      },
      "execution_count": 22,
      "outputs": [
        {
          "output_type": "stream",
          "name": "stdout",
          "text": [
            "one\n",
            "two\n",
            "three\n"
          ]
        }
      ]
    },
    {
      "cell_type": "markdown",
      "source": [
        "One Value To Multiple Variables"
      ],
      "metadata": {
        "id": "sd3gTomlOHrg"
      }
    },
    {
      "cell_type": "code",
      "source": [
        "x = y = z = \"four\"\n",
        "print(x)\n",
        "print(y)\n",
        "print(z)"
      ],
      "metadata": {
        "colab": {
          "base_uri": "https://localhost:8080/"
        },
        "id": "SMZ3DT7BOlgZ",
        "outputId": "277d320f-108a-497f-aee8-e08d4c5a873c"
      },
      "execution_count": 23,
      "outputs": [
        {
          "output_type": "stream",
          "name": "stdout",
          "text": [
            "four\n",
            "four\n",
            "four\n"
          ]
        }
      ]
    },
    {
      "cell_type": "markdown",
      "source": [
        "Output Variables"
      ],
      "metadata": {
        "id": "A1ieiADkO0Yw"
      }
    },
    {
      "cell_type": "code",
      "source": [
        "x = \"enjoying\"\n",
        "print(\"Python programming is \" + x)\n",
        "\n",
        "#Other way\n",
        "X = \"Python is \"\n",
        "Y = \"enjoying\"\n",
        "Z = X + Y\n",
        "print(Z)"
      ],
      "metadata": {
        "colab": {
          "base_uri": "https://localhost:8080/"
        },
        "id": "mzcV9EcNO2B_",
        "outputId": "57988eeb-a91c-4db1-99d7-0bf0c6f53446"
      },
      "execution_count": 27,
      "outputs": [
        {
          "output_type": "stream",
          "name": "stdout",
          "text": [
            "Python programming is enjoying\n",
            "Python is enjoying\n"
          ]
        }
      ]
    },
    {
      "cell_type": "markdown",
      "source": [
        "Arithmetic Operations"
      ],
      "metadata": {
        "id": "em4eYOqCPTG4"
      }
    },
    {
      "cell_type": "code",
      "source": [
        "x = 5\n",
        "y = 3\n",
        "print(x + y)\n",
        "\n",
        "sum = x + y\n",
        "print(sum)\n",
        "\n",
        "#Exponentiation\n",
        "e = x**2\n",
        "e"
      ],
      "metadata": {
        "colab": {
          "base_uri": "https://localhost:8080/"
        },
        "id": "_-bFLZH3PTgg",
        "outputId": "894b6f48-228d-4e2a-c0e6-448c16897d70"
      },
      "execution_count": 37,
      "outputs": [
        {
          "output_type": "stream",
          "name": "stdout",
          "text": [
            "8\n",
            "8\n"
          ]
        },
        {
          "output_type": "execute_result",
          "data": {
            "text/plain": [
              "25"
            ]
          },
          "metadata": {},
          "execution_count": 37
        }
      ]
    },
    {
      "cell_type": "markdown",
      "source": [
        "Assignment Operators"
      ],
      "metadata": {
        "id": "Eskt3C2mQMSA"
      }
    },
    {
      "cell_type": "code",
      "source": [
        "a, b, c = 0, -1, 6\n",
        "c %= 3\n",
        "c"
      ],
      "metadata": {
        "colab": {
          "base_uri": "https://localhost:8080/"
        },
        "id": "tZulf-y0QMuA",
        "outputId": "54778c23-3c0c-4a7c-cc0a-5e89f8890a1a"
      },
      "execution_count": 31,
      "outputs": [
        {
          "output_type": "execute_result",
          "data": {
            "text/plain": [
              "0"
            ]
          },
          "metadata": {},
          "execution_count": 31
        }
      ]
    },
    {
      "cell_type": "markdown",
      "source": [
        "Logical Operators"
      ],
      "metadata": {
        "id": "n3Gm94spQpDv"
      }
    },
    {
      "cell_type": "code",
      "source": [
        "a, b, c = 0, -1, 6\n",
        "a > b and c > b"
      ],
      "metadata": {
        "colab": {
          "base_uri": "https://localhost:8080/"
        },
        "id": "y4cG54fPQpXw",
        "outputId": "b1af43d3-87b9-4ea2-e820-6882ba2d7560"
      },
      "execution_count": 33,
      "outputs": [
        {
          "output_type": "execute_result",
          "data": {
            "text/plain": [
              "True"
            ]
          },
          "metadata": {},
          "execution_count": 33
        }
      ]
    },
    {
      "cell_type": "markdown",
      "source": [
        "Identity Operators"
      ],
      "metadata": {
        "id": "cPgJLxnFRBtY"
      }
    },
    {
      "cell_type": "code",
      "source": [
        "a, b, c = 0, -1, 5\n",
        "a is c"
      ],
      "metadata": {
        "colab": {
          "base_uri": "https://localhost:8080/"
        },
        "id": "fILpH6sKRCeg",
        "outputId": "23d87502-df87-4d39-dae9-9651007a44c2"
      },
      "execution_count": 34,
      "outputs": [
        {
          "output_type": "execute_result",
          "data": {
            "text/plain": [
              "False"
            ]
          },
          "metadata": {},
          "execution_count": 34
        }
      ]
    },
    {
      "cell_type": "markdown",
      "source": [
        "Bitwise Operators"
      ],
      "metadata": {
        "id": "rw8Maz-tYaKa"
      }
    },
    {
      "cell_type": "code",
      "source": [
        "#decimal to binary\n",
        "#10 = 1010\n",
        "\n",
        "x = 10\n",
        "print(x << 1)"
      ],
      "metadata": {
        "colab": {
          "base_uri": "https://localhost:8080/"
        },
        "id": "3fBT0zmxYal5",
        "outputId": "30a07db1-3caa-4882-8285-c90751a2a5ad"
      },
      "execution_count": 38,
      "outputs": [
        {
          "output_type": "stream",
          "name": "stdout",
          "text": [
            "20\n"
          ]
        }
      ]
    },
    {
      "cell_type": "markdown",
      "source": [
        "Application 1"
      ],
      "metadata": {
        "id": "s1N39U5VYPAQ"
      }
    },
    {
      "cell_type": "code",
      "source": [
        "#Application 1\n",
        "import math\n",
        "\n",
        "print(\"Area of Triangle\")\n",
        "base = float(input(\"Enter base: \"))\n",
        "height = float(input(\"Enter height: \"))\n",
        "area = .5 * base * height\n",
        "print(\"Result: \", area)\n",
        "\n",
        "print(\"\\nArea of Circle\")\n",
        "radius = float(input(\"Enter radius: \"))\n",
        "pi = math.pi\n",
        "area = pi * radius**2\n",
        "print(\"Result: \", area)\n",
        "\n",
        "print(\"\\nArea of Trapezoid\")\n",
        "base1 = float(input(\"Enter base1: \"))\n",
        "base2 = float(input(\"Enter base2: \"))\n",
        "height = float(input(\"Enter height: \"))\n",
        "area = .5 * (base1 + base2) * height\n",
        "print(\"Result: \", area)\n"
      ],
      "metadata": {
        "colab": {
          "base_uri": "https://localhost:8080/"
        },
        "id": "QflyZYrDYRjZ",
        "outputId": "e64b5692-0cc8-4a83-a5b4-01b09fefa9b5"
      },
      "execution_count": 12,
      "outputs": [
        {
          "output_type": "stream",
          "name": "stdout",
          "text": [
            "Area of Triangle\n",
            "Enter base: 10\n",
            "Enter height: 15\n",
            "Result:  75.0\n",
            "\n",
            "Area of Circle\n",
            "Enter radius: 4\n",
            "Result:  50.26548245743669\n",
            "\n",
            "Area of Trapezoid\n",
            "Enter base1: 5\n",
            "Enter base2: 7\n",
            "Enter height: 10\n",
            "Result:  60.0\n"
          ]
        }
      ]
    }
  ]
}