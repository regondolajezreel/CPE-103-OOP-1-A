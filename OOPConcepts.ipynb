{
  "nbformat": 4,
  "nbformat_minor": 0,
  "metadata": {
    "colab": {
      "provenance": [],
      "authorship_tag": "ABX9TyMmUiYn5d42+SqSLFfiU68J",
      "include_colab_link": true
    },
    "kernelspec": {
      "name": "python3",
      "display_name": "Python 3"
    },
    "language_info": {
      "name": "python"
    }
  },
  "cells": [
    {
      "cell_type": "markdown",
      "metadata": {
        "id": "view-in-github",
        "colab_type": "text"
      },
      "source": [
        "<a href=\"https://colab.research.google.com/github/regondolajezreel/CPE-103-OP-1-A/blob/main/OOPConcepts.ipynb\" target=\"_parent\"><img src=\"https://colab.research.google.com/assets/colab-badge.svg\" alt=\"Open In Colab\"/></a>"
      ]
    },
    {
      "cell_type": "markdown",
      "source": [
        "Class Constructor\n"
      ],
      "metadata": {
        "id": "0VBgAiVOySNZ"
      }
    },
    {
      "cell_type": "code",
      "source": [
        "class Car:\n",
        "  def __init__(self, name, color):\n",
        "    self.name = name\n",
        "    self.color = color\n",
        "  pass"
      ],
      "metadata": {
        "id": "7pT_DLXRyThh"
      },
      "execution_count": 4,
      "outputs": []
    },
    {
      "cell_type": "markdown",
      "source": [
        "Class Methods"
      ],
      "metadata": {
        "id": "wg2sMRl_8DQ3"
      }
    },
    {
      "cell_type": "code",
      "source": [
        "class Car:\n",
        "  car_type = \"Sedan\"\n",
        "\n",
        "  def __init__(self, name, mileage):\n",
        "    self.name = name\n",
        "    self.mileage = mileage\n",
        "\n",
        "  def description(self):\n",
        "    return \"The {self.name} car gives the mileage of {self.mileage}km/l\"\n",
        "\n",
        "  def max_speed(self, speed):\n",
        "    return \"The {self.name} runs at the maximum speed of {speed}km/h\"\n"
      ],
      "metadata": {
        "id": "AUJW5a8-8DnG"
      },
      "execution_count": 5,
      "outputs": []
    },
    {
      "cell_type": "markdown",
      "source": [
        "Multiple Objects with the same class"
      ],
      "metadata": {
        "id": "T20nU3Kk8D4e"
      }
    },
    {
      "cell_type": "code",
      "source": [
        "class Car:    #parent class\n",
        "\n",
        "  def __init__(self, name, mileage):\n",
        "    self.name = name\n",
        "    self.mileage = mileage\n",
        "\n",
        "  def description(self):\n",
        "    return f\"The {self.name} car gives the mileage of {self.mileage}km/l\"\n",
        "\n",
        "class BMW(Car):   #child class\n",
        "  pass\n",
        "\n",
        "class Audi(Car):    #child class\n",
        "  def audi_desc(self):\n",
        "    return \"This is the description of class Audi.\"\n",
        "\n",
        "bmw = BMW(\"BMW 7-series\", 39.53)\n",
        "print(bmw.description())\n",
        "\n",
        "audi = Audi(\"Audi A8 L\", 14)\n",
        "print(audi.description())\n",
        "print(audi.audi_desc())"
      ],
      "metadata": {
        "colab": {
          "base_uri": "https://localhost:8080/"
        },
        "id": "1WLTpO1p8EVm",
        "outputId": "51432c68-8b7b-4a04-813c-856ed1f238c5"
      },
      "execution_count": 12,
      "outputs": [
        {
          "output_type": "stream",
          "name": "stdout",
          "text": [
            "The BMW 7-series car gives the mileage of 39.53km/l\n",
            "The Audi A8 L car gives the mileage of 14km/l\n",
            "This is the description of class Audi.\n"
          ]
        }
      ]
    },
    {
      "cell_type": "markdown",
      "source": [
        "Apply the OOP concept like class comnstructor, methods, inheritance to describe the sides of shapes (e.g. Triangle, Square, Rectangle)"
      ],
      "metadata": {
        "id": "9CvuN4zJ8EkY"
      }
    },
    {
      "cell_type": "code",
      "source": [
        "class Shapes:\n",
        "  def __init__(self, name, sides):\n",
        "    self.name = name\n",
        "    self.sides = sides\n",
        "\n",
        "  def description(self):\n",
        "    return f\"The {self.name} has {self.sides} sides.\\n\"\n",
        "\n",
        "class Pentagon(Shapes):\n",
        "  pass\n",
        "\n",
        "class Hexagon(Shapes):\n",
        "  pass\n",
        "\n",
        "class Heptagon(Shapes):\n",
        "  def heptagon_desc(self):\n",
        "    return \"This is the description of class Heptagon.\"\n",
        "\n",
        "\n",
        "pentagon = Pentagon(\"Pentagon\", 5)\n",
        "print(pentagon.description())\n",
        "\n",
        "hexagon = Hexagon(\"Hexagon\", 6)\n",
        "print(hexagon.description())\n",
        "\n",
        "heptagon = Heptagon(\"Heptagon\", 7)\n",
        "print(heptagon.description())\n",
        "print(heptagon.heptagon_desc())\n",
        "describe me :("
      ],
      "metadata": {
        "colab": {
          "base_uri": "https://localhost:8080/"
        },
        "id": "cp6aZOxN8E3t",
        "outputId": "79c8b3fb-43da-4237-b77a-f820d670d945"
      },
      "execution_count": 20,
      "outputs": [
        {
          "output_type": "stream",
          "name": "stdout",
          "text": [
            "The Pentagon has 5 sides.\n",
            "\n",
            "The Hexagon has 6 sides.\n",
            "\n",
            "The Heptagon has 7 sides.\n",
            "\n",
            "This is the description of class Heptagon.\n"
          ]
        }
      ]
    },
    {
      "cell_type": "markdown",
      "source": [],
      "metadata": {
        "id": "RCvIQzXe8FLO"
      }
    },
    {
      "cell_type": "code",
      "source": [],
      "metadata": {
        "id": "V0NbDTv18Fin"
      },
      "execution_count": null,
      "outputs": []
    }
  ]
}