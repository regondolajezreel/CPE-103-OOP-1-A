{
  "nbformat": 4,
  "nbformat_minor": 0,
  "metadata": {
    "colab": {
      "provenance": [],
      "mount_file_id": "15wJOsbeJsyVBQxESsVPeUlheWdwQ7sRx",
      "authorship_tag": "ABX9TyPaJOPoIDArJ1dIS/MIVC8i",
      "include_colab_link": true
    },
    "kernelspec": {
      "name": "python3",
      "display_name": "Python 3"
    },
    "language_info": {
      "name": "python"
    }
  },
  "cells": [
    {
      "cell_type": "markdown",
      "metadata": {
        "id": "view-in-github",
        "colab_type": "text"
      },
      "source": [
        "<a href=\"https://colab.research.google.com/github/regondolajezreel/CPE-103-OOP-1-A/blob/main/LabActNo_3.ipynb\" target=\"_parent\"><img src=\"https://colab.research.google.com/assets/colab-badge.svg\" alt=\"Open In Colab\"/></a>"
      ]
    },
    {
      "cell_type": "markdown",
      "source": [
        "#Accounts"
      ],
      "metadata": {
        "id": "Wz_jyD3YEjL6"
      }
    },
    {
      "cell_type": "code",
      "source": [
        "#Accounts.py\n",
        "class Accounts(): # create the class\n",
        "    def __init__(self, account_number, account_firstname, account_lastname, # Changed _init_ to __init__\n",
        "    current_balance, address, email):\n",
        "        self.account_number = account_number\n",
        "        self.account_firstname = account_firstname\n",
        "        self.account_lastname = account_lastname\n",
        "        self.current_balance = current_balance\n",
        "        self.address = address\n",
        "        self.email = email\n",
        "\n",
        "    def update_address(self, new_address):\n",
        "        self.address = new_address\n",
        "\n",
        "    def update_email(self, new_email):\n",
        "        self.email = new_email"
      ],
      "metadata": {
        "id": "KPY-g9ZuElxD"
      },
      "execution_count": null,
      "outputs": []
    },
    {
      "cell_type": "markdown",
      "source": [
        "#ATM"
      ],
      "metadata": {
        "id": "UliWweciT3uq"
      }
    },
    {
      "cell_type": "code",
      "source": [
        "#ATM.py\n",
        "\n",
        "class ATM():\n",
        "  serial_number = 0\n",
        "\n",
        "  def deposit(self, account, amount):\n",
        "    account.current_balance = account.current_balance + amount\n",
        "    print(\"Deposit Complete\")\n",
        "\n",
        "  def withdraw(self, account, amount):\n",
        "    account.current_balance = account.current_balance - amount\n",
        "    print(\"Withdraw Complete\")\n",
        "\n",
        "  def check_currentBalance(self, account):\n",
        "    print(\"Current Balance: \", account.current_balance)"
      ],
      "metadata": {
        "id": "FeoS02VBGwsz"
      },
      "execution_count": null,
      "outputs": []
    },
    {
      "cell_type": "markdown",
      "source": [
        "#Main"
      ],
      "metadata": {
        "id": "wabSInWjT9lz"
      }
    },
    {
      "cell_type": "code",
      "source": [
        "#main.py\n",
        "\n",
        "\n",
        "Account1 = Accounts(account_number=123456, account_firstname=\"Royce\", account_lastname=\"Chua\",current_balance = 1000, address = \"Silver Street Quezon City\", email = \"roycechua123@gmail.com\")\n",
        "\n",
        "print(\"Account 1\")\n",
        "print(\"First Name: \", Account1.account_firstname)\n",
        "print(\"Last Name: \", Account1.account_lastname)\n",
        "print(\"Current Balance: \", Account1.current_balance)\n",
        "print(\"Address: \", Account1.address)\n",
        "print(\"Email: \", Account1.email)\n",
        "\n",
        "print(\"\\n\")\n",
        "\n",
        "Account2 = Accounts(account_number=123456, account_firstname=\"Royce\", account_lastname=\"Chua\",current_balance = 1000, address = \"Silver Street Quezon City\", email = \"roycechua123@gmail.com\")\n",
        "\n",
        "print(\"Account 2\")\n",
        "print(\"First Name: \", Account2.account_firstname)\n",
        "print(\"Last Name: \", Account2.account_lastname)\n",
        "print(\"Current Balance: \", Account2.current_balance)\n",
        "print(\"Address: \", Account2.address)\n",
        "print(\"Email: \", Account2.email)\n",
        "\n",
        "print(\"\\n\")\n",
        "\n",
        "ATM1 = ATM(serial_number = 7654321)\n",
        "ATM1.deposit(Account1, 500)\n",
        "ATM1.check_currentBalance(Account1)\n",
        "\n",
        "ATM1.deposit(Account2, 300)\n",
        "ATM1.check_currentBalance(Account2)"
      ],
      "metadata": {
        "colab": {
          "base_uri": "https://localhost:8080/"
        },
        "id": "_pq_SfpCHXKr",
        "outputId": "c746da7f-7d6b-4967-d957-2663043ea33a"
      },
      "execution_count": null,
      "outputs": [
        {
          "output_type": "stream",
          "name": "stdout",
          "text": [
            "Account 1\n",
            "First Name:  Royce\n",
            "Last Name:  Chua\n",
            "Current Balance:  1000\n",
            "Address:  Silver Street Quezon City\n",
            "Email:  roycechua123@gmail.com\n",
            "\n",
            "\n",
            "Account 2\n",
            "First Name:  Royce\n",
            "Last Name:  Chua\n",
            "Current Balance:  1000\n",
            "Address:  Silver Street Quezon City\n",
            "Email:  roycechua123@gmail.com\n",
            "\n",
            "\n",
            "Deposit Complete\n",
            "Current Balance:  1500\n",
            "Deposit Complete\n",
            "Current Balance:  1300\n"
          ]
        }
      ]
    },
    {
      "cell_type": "markdown",
      "source": [
        "#Supplementary Activity"
      ],
      "metadata": {
        "id": "BP7jDByrUmYa"
      }
    },
    {
      "cell_type": "markdown",
      "source": [
        "1.\tModify the ATM.py program and add the constructor function"
      ],
      "metadata": {
        "id": "m0PM03ksrpsX"
      }
    },
    {
      "cell_type": "code",
      "source": [
        "#ATM.py\n",
        "class ATM():\n",
        "  serial_number = 0\n",
        "\n",
        "  def __init__(self, serial_number):\n",
        "    self.serial_number = serial_number\n",
        "\n",
        "  def deposit(self, account, amount):\n",
        "    account.current_balance = account.current_balance + amount\n",
        "    print(\"Deposit Complete\")\n",
        "\n",
        "  def withdraw(self, account, amount):\n",
        "    account.current_balance = account.current_balance - amount\n",
        "    print(\"Withdraw Complete\")\n",
        "\n",
        "  def check_currentBalance(self, account):\n",
        "    print(f\"Current Balance: {account.current_balance}\")"
      ],
      "metadata": {
        "id": "z3nil2iFUq4p"
      },
      "execution_count": null,
      "outputs": []
    },
    {
      "cell_type": "markdown",
      "source": [
        "2.\tModify the main.py program and initialize the ATM machine with any integer serial number combination and display the serial number at the end of the program."
      ],
      "metadata": {
        "id": "nBUuDj_Cr3l5"
      }
    },
    {
      "cell_type": "code",
      "source": [
        "#main.py\n",
        "Account1 = Accounts(account_number=123456, account_firstname=\"Royce\", account_lastname=\"Chua\",current_balance = 1000, address = \"Silver Street Quezon City\", email = \"roycechua123@gmail.com\")\n",
        "\n",
        "print(\"Account 1\")\n",
        "print(\"First Name: \", Account1.account_firstname)\n",
        "print(\"Last Name: \", Account1.account_lastname)\n",
        "print(\"Current Balance: \", Account1.current_balance)\n",
        "print(\"Address: \", Account1.address)\n",
        "print(\"Email: \", Account1.email)\n",
        "\n",
        "print(\"\\n\")\n",
        "\n",
        "Account2 = Accounts(account_number=123456, account_firstname=\"Royce\", account_lastname=\"Chua\",current_balance = 1000, address = \"Silver Street Quezon City\", email = \"roycechua123@gmail.com\")\n",
        "\n",
        "print(\"Account 2\")\n",
        "print(\"First Name: \", Account2.account_firstname)\n",
        "print(\"Last Name: \", Account2.account_lastname)\n",
        "print(\"Current Balance: \", Account2.current_balance)\n",
        "print(\"Address: \", Account2.address)\n",
        "print(\"Email: \", Account2.email)\n",
        "\n",
        "print(\"\\n\")\n",
        "\n",
        "ATM1 = ATM(serial_number = 7654321)\n",
        "ATM1.deposit(Account1, 500)\n",
        "ATM1.check_currentBalance(Account1)\n",
        "\n",
        "ATM1.deposit(Account2, 300)\n",
        "ATM1.check_currentBalance(Account2)\n",
        "\n",
        "print(\"\\nATM Serial Number:\", ATM1.serial_number)"
      ],
      "metadata": {
        "id": "Vw9gSWpEU9Uq",
        "colab": {
          "base_uri": "https://localhost:8080/"
        },
        "outputId": "171a4055-759f-499e-aee2-5ac92d8de5e0"
      },
      "execution_count": null,
      "outputs": [
        {
          "output_type": "stream",
          "name": "stdout",
          "text": [
            "Account 1\n",
            "First Name:  Royce\n",
            "Last Name:  Chua\n",
            "Current Balance:  1000\n",
            "Address:  Silver Street Quezon City\n",
            "Email:  roycechua123@gmail.com\n",
            "\n",
            "\n",
            "Account 2\n",
            "First Name:  Royce\n",
            "Last Name:  Chua\n",
            "Current Balance:  1000\n",
            "Address:  Silver Street Quezon City\n",
            "Email:  roycechua123@gmail.com\n",
            "\n",
            "\n",
            "Deposit Complete\n",
            "Current Balance: 1500\n",
            "Deposit Complete\n",
            "Current Balance: 1300\n",
            "\n",
            "ATM Serial Number: 7654321\n"
          ]
        }
      ]
    },
    {
      "cell_type": "markdown",
      "source": [
        "3.\tModify the ATM.py program and add the view_transactionsummary() method. The method should display all the transaction made in the ATM object.\n"
      ],
      "metadata": {
        "id": "bkziLLcJsAfN"
      }
    },
    {
      "cell_type": "code",
      "source": [
        "#ATM.py\n",
        "class ATM():\n",
        "    serial_number = 0\n",
        "    transactions = []\n",
        "\n",
        "    def __init__(self, serial_number):\n",
        "        self.serial_number = serial_number\n",
        "\n",
        "    def deposit(self, account, amount):\n",
        "        account.current_balance = account.current_balance + amount\n",
        "        self.transactions(f\"Deposit: {amount} to account {account.account_number}\")\n",
        "        print(\"Deposit Complete\")\n",
        "\n",
        "    def withdraw(self, account, amount):\n",
        "        account.current_balance = account.current_balance - amount\n",
        "        self.transactions(f\"Withdrawal: {amount} from account {account.account_number}\")\n",
        "        print(\"Withdraw Complete\")\n",
        "\n",
        "    def check_currentBalance(self, account):\n",
        "        print(f\"Current Balance: {account.current_balance}\")\n",
        "\n",
        "    def view_transactionsummary(self):\n",
        "        print(\"Transaction Summary:\")\n",
        "        for transaction in self.transactions:\n",
        "          transaction.print()\n",
        "\n",
        "ATM1 = ATM(serial_number = 7654321)\n",
        "ATM1.view_transactionsummary()"
      ],
      "metadata": {
        "colab": {
          "base_uri": "https://localhost:8080/"
        },
        "id": "Cc7twKrKioN_",
        "outputId": "a14fc7fc-0448-4b02-d0aa-342aad12fbf9"
      },
      "execution_count": null,
      "outputs": [
        {
          "output_type": "stream",
          "name": "stdout",
          "text": [
            "Transaction Summary:\n"
          ]
        }
      ]
    }
  ]
}