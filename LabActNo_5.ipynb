{
  "nbformat": 4,
  "nbformat_minor": 0,
  "metadata": {
    "colab": {
      "provenance": [],
      "authorship_tag": "ABX9TyNRXaKwsfVBHOzBpAAoBb4d",
      "include_colab_link": true
    },
    "kernelspec": {
      "name": "python3",
      "display_name": "Python 3"
    },
    "language_info": {
      "name": "python"
    }
  },
  "cells": [
    {
      "cell_type": "markdown",
      "metadata": {
        "id": "view-in-github",
        "colab_type": "text"
      },
      "source": [
        "<a href=\"https://colab.research.google.com/github/regondolajezreel/CPE-103-OOP-1-A/blob/main/LabActNo_5.ipynb\" target=\"_parent\"><img src=\"https://colab.research.google.com/assets/colab-badge.svg\" alt=\"Open In Colab\"/></a>"
      ]
    },
    {
      "cell_type": "markdown",
      "source": [
        "#Exploring built-in functions"
      ],
      "metadata": {
        "id": "reEKTahuyzGA"
      }
    },
    {
      "cell_type": "code",
      "execution_count": null,
      "metadata": {
        "id": "7PW7NScDOWzb",
        "colab": {
          "base_uri": "https://localhost:8080/"
        },
        "outputId": "31aedd44-ab1a-4f44-b8dc-a07880974bc3"
      },
      "outputs": [
        {
          "output_type": "stream",
          "name": "stdout",
          "text": [
            "Propositional logic evaluator for discrete math\n",
            "How many variables? 3\n",
            "Enter the propositional logic expression: 101\n",
            "A B C f\n",
            "0 0 0 101\n",
            "0 0 1 101\n",
            "0 1 0 101\n",
            "0 1 1 101\n",
            "1 0 0 101\n",
            "1 0 1 101\n",
            "1 1 0 101\n",
            "1 1 1 101\n"
          ]
        }
      ],
      "source": [
        "print(\"Propositional logic evaluator for discrete math\")\n",
        "variables = int(input(\"How many variables? \"))\n",
        "total_combinations = 2 ** variables\n",
        "\n",
        "combinations_list = []\n",
        "\n",
        "for i in range(total_combinations):\n",
        "    bin_equivalent = bin(i) [2:]\n",
        "    while len(bin_equivalent)<variables:\n",
        "        bin_equivalent=\"0\"+bin_equivalent\n",
        "    combinations_list.append(tuple(int(val) for val in bin_equivalent))\n",
        "\n",
        "expression = input(\"Enter the propositional logic expression: \")\n",
        "\n",
        "if variables == 2:\n",
        "    print(\"A B f\")\n",
        "    for A,B in combinations_list:\n",
        "        evaluated_expression = eval(expression)\n",
        "        print(A,B, evaluated_expression)\n",
        "elif variables == 3:\n",
        "    print(\"A B C f\")\n",
        "    for A,B,C in combinations_list:\n",
        "        evaluated_expression = eval(expression)\n",
        "        print(A,B,C, evaluated_expression)"
      ]
    },
    {
      "cell_type": "markdown",
      "source": [
        "#Using the open() function for file handling"
      ],
      "metadata": {
        "id": "rRDL6hy9y5tP"
      }
    },
    {
      "cell_type": "code",
      "source": [
        "name = \"Royce Chua\"\n",
        "file = open(\"newfile1.txt\",'w')\n",
        "file.write(f\"Hello, {name}!\\n\")\n",
        "file.write(\"Isn't this amazing!\\n\")\n",
        "file.write(\"that we can create and write on text files\\n\")\n",
        "file.write(\"using Python.\")\n",
        "file.close()"
      ],
      "metadata": {
        "id": "6pN2ZurXxAbI"
      },
      "execution_count": null,
      "outputs": []
    },
    {
      "cell_type": "code",
      "source": [
        "name = \"Royce Chua\"\n",
        "file = open(\"newfile2.txt\",'w')\n",
        "file.write(f\"Hello, {name}!\\n\")\n",
        "file.write(\"This message was created using Python\\n\")\n",
        "file.close()"
      ],
      "metadata": {
        "id": "FiQO3-YAxklH"
      },
      "execution_count": null,
      "outputs": []
    },
    {
      "cell_type": "code",
      "source": [
        "file = open(\"newfile1.txt\",'r')\n",
        "data = file.read()\n",
        "print(data)\n",
        "file.close()"
      ],
      "metadata": {
        "colab": {
          "base_uri": "https://localhost:8080/"
        },
        "id": "Xs26vKQ6xDQQ",
        "outputId": "342607ee-7487-42ed-8270-8ac0a1874135"
      },
      "execution_count": null,
      "outputs": [
        {
          "output_type": "stream",
          "name": "stdout",
          "text": [
            "Hello, Royce Chua!\n",
            "Isn't this amazing!\n",
            "that we can create and write on text files\n",
            "using Python.\n"
          ]
        }
      ]
    },
    {
      "cell_type": "code",
      "source": [
        "file = open(\"newfile2.txt\",'r')\n",
        "data = file.read()\n",
        "print(data)\n",
        "file.close()"
      ],
      "metadata": {
        "colab": {
          "base_uri": "https://localhost:8080/"
        },
        "id": "h5apsgDtyQ6_",
        "outputId": "885fefc1-d8d8-4ddc-dbe4-92659956dc73"
      },
      "execution_count": null,
      "outputs": [
        {
          "output_type": "stream",
          "name": "stdout",
          "text": [
            "Hello, Royce Chua!\n",
            "This message was created using Python\n"
          ]
        }
      ]
    },
    {
      "cell_type": "code",
      "source": [
        "file = open(\"newfile2.txt\",'r')\n",
        "data = file.read(12)\n",
        "print(data)\n",
        "file.close()"
      ],
      "metadata": {
        "colab": {
          "base_uri": "https://localhost:8080/"
        },
        "id": "GHlPScDIxYFm",
        "outputId": "dd385cae-e137-4a22-91c8-f511fb8d46e3"
      },
      "execution_count": null,
      "outputs": [
        {
          "output_type": "stream",
          "name": "stdout",
          "text": [
            "Hello, Royce\n"
          ]
        }
      ]
    },
    {
      "cell_type": "code",
      "source": [
        "file = open(\"newfile2.txt\",'a')\n",
        "file.write(\"and also by the programmer of course. \")\n",
        "file.close()"
      ],
      "metadata": {
        "id": "3ckvkVC2ylAH"
      },
      "execution_count": null,
      "outputs": []
    },
    {
      "cell_type": "code",
      "source": [
        "file = open(\"newfile2.txt\",'r')\n",
        "data = file.read()\n",
        "print(data)\n",
        "file.close()"
      ],
      "metadata": {
        "colab": {
          "base_uri": "https://localhost:8080/"
        },
        "id": "e0F6H1bG9-i6",
        "outputId": "ab6291ce-4643-4eff-a6d5-5bb604f3c27e"
      },
      "execution_count": null,
      "outputs": [
        {
          "output_type": "stream",
          "name": "stdout",
          "text": [
            "Hello, Royce Chua!\n",
            "This message was created using Python\n",
            "and also by the programmer of course. \n"
          ]
        }
      ]
    },
    {
      "cell_type": "markdown",
      "source": [
        "#User-defined Functions"
      ],
      "metadata": {
        "id": "HvFxBPHby-Yf"
      }
    },
    {
      "cell_type": "code",
      "source": [
        "def generate_truthtable(number_of_variables):\n",
        "  total_combinations = 2 ** number_of_variables\n",
        "  combinations_list = []\n",
        "  for i in range(total_combinations):\n",
        "    bin_equivalent = bin(i) [2:]\n",
        "    while len(bin_equivalent)<number_of_variables:\n",
        "      bin_equivalent=\"0\"+bin_equivalent\n",
        "    combinations_list. append(tuple(int(val) for val in bin_equivalent))\n",
        "  return combinations_list\n",
        "\n",
        "print(generate_truthtable(3))"
      ],
      "metadata": {
        "colab": {
          "base_uri": "https://localhost:8080/"
        },
        "id": "mGhezlK9yonf",
        "outputId": "664fff2f-97d6-4b37-b7cf-4f4532910312"
      },
      "execution_count": 4,
      "outputs": [
        {
          "output_type": "stream",
          "name": "stdout",
          "text": [
            "[(0, 0, 0), (0, 0, 1), (0, 1, 0), (0, 1, 1), (1, 0, 0), (1, 0, 1), (1, 1, 0), (1, 1, 1)]\n"
          ]
        }
      ]
    },
    {
      "cell_type": "code",
      "source": [
        "def generate_truthtable(number_of_variables=0):\n",
        "  if number_of_variables == 0:\n",
        "    return \"You need to enter an integer\"\n",
        "  else:\n",
        "    total_combinations = 2 ** number_of_variables\n",
        "    combinations_list = []\n",
        "    for i in range(total_combinations):\n",
        "      bin_equivalent = bin(i) [2:]\n",
        "      while len(bin_equivalent)<number_of_variables:\n",
        "        bin_equivalent=\"0\"+bin_equivalent\n",
        "    combinations_list. append(tuple(int(val) for val in bin_equivalent))\n",
        "  return combinations_list\n",
        "\n",
        "print(generate_truthtable(3))"
      ],
      "metadata": {
        "id": "AfXUZd6czY-o",
        "colab": {
          "base_uri": "https://localhost:8080/"
        },
        "outputId": "61242813-e8a9-4397-b27a-24eabf88da9e"
      },
      "execution_count": 8,
      "outputs": [
        {
          "output_type": "stream",
          "name": "stdout",
          "text": [
            "[(1, 1, 1)]\n"
          ]
        }
      ]
    },
    {
      "cell_type": "markdown",
      "source": [
        "#Modules"
      ],
      "metadata": {
        "id": "GwmgMREjFK_S"
      }
    },
    {
      "cell_type": "code",
      "source": [
        "import math\n",
        "\n",
        "def quadratic_formula(a,b,c):\n",
        "    if b**2-(4*a*c) < 0:\n",
        "        x1 = (complex(-b,math.floor(math.sqrt(abs(b**2-(4*a*c))))))/(2*a)\n",
        "        x2 = (complex(-b,-1*math.floor(math.sqrt(abs(b**2-(4*a*c))))))/(2*a)\n",
        "        return x1, x2\n",
        "    else:\n",
        "        x1 = (-b+math.sqrt(b**2-(4*a*c)))/(2*a)\n",
        "        x2 = (-b-math.sqrt(b**2-(4*a*c)))/(2*a)\n",
        "        return x1, x2\n",
        "\n",
        "print(quadratic_formula(1,2,3))"
      ],
      "metadata": {
        "colab": {
          "base_uri": "https://localhost:8080/"
        },
        "id": "2Yobe5mjFP-7",
        "outputId": "31453b80-0b61-4599-bbf9-5be1be51a720"
      },
      "execution_count": 9,
      "outputs": [
        {
          "output_type": "stream",
          "name": "stdout",
          "text": [
            "((-1+1j), (-1-1j))\n"
          ]
        }
      ]
    },
    {
      "cell_type": "code",
      "source": [
        "import math\n",
        "\n",
        "def angle_demo():\n",
        "    angle = math.sin(math.pi/2)\n",
        "\n",
        "    print(angle)\n",
        "\n",
        "    angle = math.sin(math.radians(90))\n",
        "\n",
        "    print(angle)\n",
        "\n",
        "angle_demo()\n",
        ""
      ],
      "metadata": {
        "colab": {
          "base_uri": "https://localhost:8080/"
        },
        "id": "UFaeOVFhFTzL",
        "outputId": "180444a0-d39b-4c92-8d03-5a8c57a74835"
      },
      "execution_count": 10,
      "outputs": [
        {
          "output_type": "stream",
          "name": "stdout",
          "text": [
            "1.0\n",
            "1.0\n"
          ]
        }
      ]
    },
    {
      "cell_type": "code",
      "source": [
        "import time\n",
        "\n",
        "def pause():\n",
        "    for i in range(10,0,-1):\n",
        "        print(f\"The program will end in {i}..\")\n",
        "        time.sleep(1)\n",
        "\n",
        "pause()"
      ],
      "metadata": {
        "colab": {
          "base_uri": "https://localhost:8080/"
        },
        "id": "sL--w3y_FW96",
        "outputId": "2b7eddc6-d906-4af9-9243-9c9db297c21c"
      },
      "execution_count": 11,
      "outputs": [
        {
          "output_type": "stream",
          "name": "stdout",
          "text": [
            "The program will end in 10..\n",
            "The program will end in 9..\n",
            "The program will end in 8..\n",
            "The program will end in 7..\n",
            "The program will end in 6..\n",
            "The program will end in 5..\n",
            "The program will end in 4..\n",
            "The program will end in 3..\n",
            "The program will end in 2..\n",
            "The program will end in 1..\n"
          ]
        }
      ]
    },
    {
      "cell_type": "code",
      "source": [
        "def current_time():\n",
        "    t = time.strftime(\"%I:%M%p\")\n",
        "    return t\n",
        "\n",
        "print(current_time())"
      ],
      "metadata": {
        "colab": {
          "base_uri": "https://localhost:8080/"
        },
        "id": "Kvw0ts5_Fcha",
        "outputId": "6a06fc3c-52f1-4ecc-9695-3ddac7a1c507"
      },
      "execution_count": 12,
      "outputs": [
        {
          "output_type": "stream",
          "name": "stdout",
          "text": [
            "04:35AM\n"
          ]
        }
      ]
    },
    {
      "cell_type": "code",
      "source": [
        "def current_date():\n",
        "    d = time.strftime(\"%b %d %Y\")\n",
        "    return d\n",
        "\n",
        "print(\"current_date()\")"
      ],
      "metadata": {
        "colab": {
          "base_uri": "https://localhost:8080/"
        },
        "id": "RxfT-PPbFggr",
        "outputId": "39561f41-3e35-401f-b618-e71f605751c8"
      },
      "execution_count": 14,
      "outputs": [
        {
          "output_type": "stream",
          "name": "stdout",
          "text": [
            "Feb 15 2025\n"
          ]
        }
      ]
    },
    {
      "cell_type": "markdown",
      "source": [
        "#User-Defined Modules"
      ],
      "metadata": {
        "id": "d7nNgMqKF1Q7"
      }
    },
    {
      "cell_type": "code",
      "source": [
        "import time\n",
        "\n",
        "def pause():\n",
        "    for i in range(10, 0, -1):\n",
        "        print(f\"The program will end in {i}..\")\n",
        "        time.sleep(1)\n",
        "\n",
        "def current_time():\n",
        "    t = time.strftime(\"%I:%M%p\")\n",
        "    return t\n",
        "\n",
        "def current_date():\n",
        "    d = time.strftime(\"%b %d %Y\")\n",
        "    return d\n",
        "\n",
        "print(\"The current time is\", current_time())\n",
        "#print(\"The current date is\", current_date())"
      ],
      "metadata": {
        "colab": {
          "base_uri": "https://localhost:8080/"
        },
        "id": "kP6GT9XCF4V6",
        "outputId": "4464cbd6-d3c2-483d-bf17-df765bf52611"
      },
      "execution_count": 15,
      "outputs": [
        {
          "output_type": "stream",
          "name": "stdout",
          "text": [
            "The current time is 04:37AM\n"
          ]
        }
      ]
    },
    {
      "cell_type": "markdown",
      "source": [
        "#Supplementary Activity"
      ],
      "metadata": {
        "id": "tZC6iFSjCIOh"
      }
    },
    {
      "cell_type": "markdown",
      "source": [
        "Task 1"
      ],
      "metadata": {
        "id": "LNk40kQnCP3x"
      }
    },
    {
      "cell_type": "code",
      "source": [
        "def word_filter(sentence, bad_words):\n",
        "    for word in bad_words:\n",
        "        sentence = sentence.replace(word, '*' * len(word))\n",
        "    return sentence\n",
        "\n",
        "bad_words_list = [\"stupid\", \"idiot\", \"dumb\", \"fool\", \"moron\", \"lame\"]\n",
        "print(word_filter(\"This is a stupid test.\", bad_words_list))"
      ],
      "metadata": {
        "colab": {
          "base_uri": "https://localhost:8080/"
        },
        "id": "Bfc-H5RpCMAx",
        "outputId": "e75a6406-5302-4876-e315-5e6a3198d0bc"
      },
      "execution_count": null,
      "outputs": [
        {
          "output_type": "stream",
          "name": "stdout",
          "text": [
            "This is a ****** test.\n"
          ]
        }
      ]
    },
    {
      "cell_type": "markdown",
      "source": [
        "Task 2"
      ],
      "metadata": {
        "id": "kUQaOVtGCRO5"
      }
    },
    {
      "cell_type": "code",
      "source": [
        "def projectile_motion_solver(angle, speed):\n",
        "    import math\n",
        "    g = 9.81\n",
        "    angle_rad = math.radians(angle)\n",
        "    range_ = (speed ** 2 * math.sin(2 * angle_rad)) / g\n",
        "    height = (speed ** 2 * (math.sin(angle_rad) ** 2)) / (2 * g)\n",
        "    return range_, height\n",
        "angle = float(input(\"Enter the angle of the projectile: \"))\n",
        "speed = float(input(\"Enter the speed of the projectile: \"))\n",
        "\n",
        "print(\"Projectile Motion Results:\", projectile_motion_solver(angle, speed))"
      ],
      "metadata": {
        "colab": {
          "base_uri": "https://localhost:8080/"
        },
        "id": "Iv6-Qm2fCSPJ",
        "outputId": "4290b7dd-33ae-4b12-e399-a0e4e98c4b86"
      },
      "execution_count": null,
      "outputs": [
        {
          "output_type": "stream",
          "name": "stdout",
          "text": [
            "Enter the angle of the projectile: 45\n",
            "Enter the speed of the projectile: 25\n",
            "Projectile Motion Results: (63.710499490316, 15.927624872578997)\n"
          ]
        }
      ]
    },
    {
      "cell_type": "markdown",
      "source": [
        "Task 3"
      ],
      "metadata": {
        "id": "0a4FMxPwCaTx"
      }
    },
    {
      "cell_type": "code",
      "source": [
        "def quadratic_solver(a, b, c):\n",
        "    import math\n",
        "    d = b ** 2 - 4 * a * c\n",
        "    if d >= 0:\n",
        "        root1 = (-b + math.sqrt(d)) / (2 * a)\n",
        "        root2 = (-b - math.sqrt(d)) / (2 * a)\n",
        "        return root1, root2\n",
        "    else:\n",
        "        return \"No Real Solutions\"\n",
        "a = float(input(\"Enter the value of a: \"))\n",
        "b = float(input(\"Enter the value of b: \"))\n",
        "c = float(input(\"Enter the value of c: \"))\n",
        "\n",
        "print(\"Quadratic Roots:\", quadratic_solver(a, b, c))"
      ],
      "metadata": {
        "colab": {
          "base_uri": "https://localhost:8080/"
        },
        "id": "yc9cgZTECbkq",
        "outputId": "8e404e95-89a8-4289-b4b9-d2d297c79e29"
      },
      "execution_count": null,
      "outputs": [
        {
          "output_type": "stream",
          "name": "stdout",
          "text": [
            "Enter the value of a: 1\n",
            "Enter the value of b: 3\n",
            "Enter the value of c: 2\n",
            "Quadratic Roots: (-1.0, -2.0)\n"
          ]
        }
      ]
    }
  ]
}