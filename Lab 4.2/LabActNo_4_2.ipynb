{
  "nbformat": 4,
  "nbformat_minor": 0,
  "metadata": {
    "colab": {
      "provenance": [],
      "authorship_tag": "ABX9TyNiZ7OjflR3AoWlir+JcGFP",
      "include_colab_link": true
    },
    "kernelspec": {
      "name": "python3",
      "display_name": "Python 3"
    },
    "language_info": {
      "name": "python"
    }
  },
  "cells": [
    {
      "cell_type": "markdown",
      "metadata": {
        "id": "view-in-github",
        "colab_type": "text"
      },
      "source": [
        "<a href=\"https://colab.research.google.com/github/regondolajezreel/CPE-103-OOP-1-A/blob/main/LabActNo_4_2.ipynb\" target=\"_parent\"><img src=\"https://colab.research.google.com/assets/colab-badge.svg\" alt=\"Open In Colab\"/></a>"
      ]
    },
    {
      "cell_type": "markdown",
      "source": [
        "#A String is a sequence"
      ],
      "metadata": {
        "id": "2euwEkJqr3rP"
      }
    },
    {
      "cell_type": "code",
      "execution_count": null,
      "metadata": {
        "colab": {
          "base_uri": "https://localhost:8080/"
        },
        "id": "_zLOICDtnfMC",
        "outputId": "16962dab-6ff3-4804-dc3f-5e66e2b8539c"
      },
      "outputs": [
        {
          "output_type": "stream",
          "name": "stdout",
          "text": [
            "a\n",
            "b\n"
          ]
        }
      ],
      "source": [
        "fruit = 'banana'\n",
        "letter = fruit[1]\n",
        "\n",
        "print(letter)\n",
        "\n",
        "letter = fruit[0]\n",
        "print(letter)"
      ]
    },
    {
      "cell_type": "code",
      "source": [
        "letter = fruit[1.5]"
      ],
      "metadata": {
        "colab": {
          "base_uri": "https://localhost:8080/",
          "height": 141
        },
        "id": "FefWL7LQw58P",
        "outputId": "0347243a-9a57-4202-aca3-fc478249e1fa"
      },
      "execution_count": null,
      "outputs": [
        {
          "output_type": "error",
          "ename": "TypeError",
          "evalue": "string indices must be integers, not 'float'",
          "traceback": [
            "\u001b[0;31m---------------------------------------------------------------------------\u001b[0m",
            "\u001b[0;31mTypeError\u001b[0m                                 Traceback (most recent call last)",
            "\u001b[0;32m<ipython-input-19-bb89ba6efbbd>\u001b[0m in \u001b[0;36m<cell line: 0>\u001b[0;34m()\u001b[0m\n\u001b[0;32m----> 1\u001b[0;31m \u001b[0mletter\u001b[0m \u001b[0;34m=\u001b[0m \u001b[0mfruit\u001b[0m\u001b[0;34m[\u001b[0m\u001b[0;36m1.5\u001b[0m\u001b[0;34m]\u001b[0m\u001b[0;34m\u001b[0m\u001b[0;34m\u001b[0m\u001b[0m\n\u001b[0m",
            "\u001b[0;31mTypeError\u001b[0m: string indices must be integers, not 'float'"
          ]
        }
      ]
    },
    {
      "cell_type": "markdown",
      "source": [
        "**Analyzation**: This shows how to access individual characters in a string using indexing, but an error occurs when trying to use a float(1.5) as an index because index should be an integer."
      ],
      "metadata": {
        "id": "UT6H5a43w8Ie"
      }
    },
    {
      "cell_type": "markdown",
      "source": [
        "#Getting the length of a string using len"
      ],
      "metadata": {
        "id": "rk1G8SYVsW7-"
      }
    },
    {
      "cell_type": "code",
      "source": [
        "fruit = 'banana'\n",
        "len(fruit)\n",
        "\n",
        "length = len(fruit)\n",
        "last = fruit[length]"
      ],
      "metadata": {
        "colab": {
          "base_uri": "https://localhost:8080/",
          "height": 176
        },
        "id": "ARBkjrGttDJe",
        "outputId": "168af5e3-87ec-461b-ccde-a16d7834d0e0"
      },
      "execution_count": null,
      "outputs": [
        {
          "output_type": "error",
          "ename": "IndexError",
          "evalue": "string index out of range",
          "traceback": [
            "\u001b[0;31m---------------------------------------------------------------------------\u001b[0m",
            "\u001b[0;31mIndexError\u001b[0m                                Traceback (most recent call last)",
            "\u001b[0;32m<ipython-input-20-cb211f6967ae>\u001b[0m in \u001b[0;36m<cell line: 0>\u001b[0;34m()\u001b[0m\n\u001b[1;32m      3\u001b[0m \u001b[0;34m\u001b[0m\u001b[0m\n\u001b[1;32m      4\u001b[0m \u001b[0mlength\u001b[0m \u001b[0;34m=\u001b[0m \u001b[0mlen\u001b[0m\u001b[0;34m(\u001b[0m\u001b[0mfruit\u001b[0m\u001b[0;34m)\u001b[0m\u001b[0;34m\u001b[0m\u001b[0;34m\u001b[0m\u001b[0m\n\u001b[0;32m----> 5\u001b[0;31m \u001b[0mlast\u001b[0m \u001b[0;34m=\u001b[0m \u001b[0mfruit\u001b[0m\u001b[0;34m[\u001b[0m\u001b[0mlength\u001b[0m\u001b[0;34m]\u001b[0m\u001b[0;34m\u001b[0m\u001b[0;34m\u001b[0m\u001b[0m\n\u001b[0m",
            "\u001b[0;31mIndexError\u001b[0m: string index out of range"
          ]
        }
      ]
    },
    {
      "cell_type": "code",
      "source": [
        "last = fruit[length-1]\n",
        "print(last)"
      ],
      "metadata": {
        "colab": {
          "base_uri": "https://localhost:8080/"
        },
        "id": "RRcCZNklsX-m",
        "outputId": "184097af-3b9a-4975-d179-471d2a3ca365"
      },
      "execution_count": null,
      "outputs": [
        {
          "output_type": "stream",
          "name": "stdout",
          "text": [
            "a\n"
          ]
        }
      ]
    },
    {
      "cell_type": "markdown",
      "source": [
        "**Analyzation**: This shows how to get the length of a string using len(), but trying to access fruit[length] causes an IndexError."
      ],
      "metadata": {
        "id": "FYfzJQ7fxWqf"
      }
    },
    {
      "cell_type": "markdown",
      "source": [
        "#Traversal through a string with a loop"
      ],
      "metadata": {
        "id": "0VCGN_-ZsXqu"
      }
    },
    {
      "cell_type": "code",
      "source": [
        "index = 0\n",
        "while index < len(fruit):\n",
        "  letter = fruit[index]\n",
        "  print(letter)\n",
        "  index = index + 1"
      ],
      "metadata": {
        "colab": {
          "base_uri": "https://localhost:8080/"
        },
        "id": "nH3A8u-VsXRm",
        "outputId": "793b3015-f065-4b34-dcd9-b3aa11b9a98b"
      },
      "execution_count": null,
      "outputs": [
        {
          "output_type": "stream",
          "name": "stdout",
          "text": [
            "b\n",
            "a\n",
            "n\n",
            "a\n",
            "n\n",
            "a\n"
          ]
        }
      ]
    },
    {
      "cell_type": "code",
      "source": [
        "for char in fruit:\n",
        "  print(char)"
      ],
      "metadata": {
        "colab": {
          "base_uri": "https://localhost:8080/"
        },
        "id": "5wTXB679tj2d",
        "outputId": "5657d1d6-026b-44a5-cff1-12f218b5c2ac"
      },
      "execution_count": null,
      "outputs": [
        {
          "output_type": "stream",
          "name": "stdout",
          "text": [
            "b\n",
            "a\n",
            "n\n",
            "a\n",
            "n\n",
            "a\n"
          ]
        }
      ]
    },
    {
      "cell_type": "markdown",
      "source": [
        "**Analyzation**: This shows how to loop through each character in a string using both while and for loops."
      ],
      "metadata": {
        "id": "O1DTMkgLxZ63"
      }
    },
    {
      "cell_type": "markdown",
      "source": [
        "#String slices"
      ],
      "metadata": {
        "id": "30cZ2TeRs9a-"
      }
    },
    {
      "cell_type": "code",
      "source": [
        "s = 'Monty Python'\n",
        "print(s[0:5])\n",
        "\n",
        "print(s[6:12])\n",
        "\n",
        "fruit = 'banana'\n",
        "fruit[:3]\n",
        "\n",
        "fruit = 'banana'\n",
        "fruit[3:3]"
      ],
      "metadata": {
        "colab": {
          "base_uri": "https://localhost:8080/",
          "height": 70
        },
        "id": "htVBP7B0s7ko",
        "outputId": "6984dcc8-fb38-4223-acf2-6db0edbfaa3b"
      },
      "execution_count": null,
      "outputs": [
        {
          "output_type": "stream",
          "name": "stdout",
          "text": [
            "Monty\n",
            "Python\n"
          ]
        },
        {
          "output_type": "execute_result",
          "data": {
            "text/plain": [
              "''"
            ],
            "application/vnd.google.colaboratory.intrinsic+json": {
              "type": "string"
            }
          },
          "metadata": {},
          "execution_count": 12
        }
      ]
    },
    {
      "cell_type": "markdown",
      "source": [
        "**Analyzation**: This shows how to extract portions of a string using slicing, even with cases like fruit[3:3], which just returns an empty string."
      ],
      "metadata": {
        "id": "FrJvz2ocxao2"
      }
    },
    {
      "cell_type": "markdown",
      "source": [
        "#Strings are immutable"
      ],
      "metadata": {
        "id": "_RAsa_E-s72O"
      }
    },
    {
      "cell_type": "code",
      "source": [
        "greeting = 'Hello, world!'\n",
        "greeting[0] = ']'"
      ],
      "metadata": {
        "colab": {
          "base_uri": "https://localhost:8080/",
          "height": 159
        },
        "id": "V7GZJba7s7iv",
        "outputId": "43929577-d5c0-4605-faf6-700c2c756fc6"
      },
      "execution_count": null,
      "outputs": [
        {
          "output_type": "error",
          "ename": "TypeError",
          "evalue": "'str' object does not support item assignment",
          "traceback": [
            "\u001b[0;31m---------------------------------------------------------------------------\u001b[0m",
            "\u001b[0;31mTypeError\u001b[0m                                 Traceback (most recent call last)",
            "\u001b[0;32m<ipython-input-14-1a37131429a7>\u001b[0m in \u001b[0;36m<cell line: 0>\u001b[0;34m()\u001b[0m\n\u001b[1;32m      1\u001b[0m \u001b[0mgreeting\u001b[0m \u001b[0;34m=\u001b[0m \u001b[0;34m'Hello, world!'\u001b[0m\u001b[0;34m\u001b[0m\u001b[0;34m\u001b[0m\u001b[0m\n\u001b[0;32m----> 2\u001b[0;31m \u001b[0mgreeting\u001b[0m\u001b[0;34m[\u001b[0m\u001b[0;36m0\u001b[0m\u001b[0;34m]\u001b[0m \u001b[0;34m=\u001b[0m \u001b[0;34m']'\u001b[0m\u001b[0;34m\u001b[0m\u001b[0;34m\u001b[0m\u001b[0m\n\u001b[0m",
            "\u001b[0;31mTypeError\u001b[0m: 'str' object does not support item assignment"
          ]
        }
      ]
    },
    {
      "cell_type": "code",
      "source": [
        "greeting = 'Hello, world!'\n",
        "new_greeting = 'J' + greeting[1:]\n",
        "print(new_greeting)"
      ],
      "metadata": {
        "colab": {
          "base_uri": "https://localhost:8080/"
        },
        "id": "hQ11NiPcuTkO",
        "outputId": "6126ba7a-dc9a-47f5-f961-2b3d3382263b"
      },
      "execution_count": null,
      "outputs": [
        {
          "output_type": "stream",
          "name": "stdout",
          "text": [
            "Jello, world!\n"
          ]
        }
      ]
    },
    {
      "cell_type": "markdown",
      "source": [
        "**Analyzation**: This shows that strings can't be changed directly, as shown by a TypeError when trying to assign a new value to greeting[0]."
      ],
      "metadata": {
        "id": "QbbxnidKxcye"
      }
    },
    {
      "cell_type": "markdown",
      "source": [
        "#Looping and Counting"
      ],
      "metadata": {
        "id": "0SFT8sHUs8tG"
      }
    },
    {
      "cell_type": "code",
      "source": [
        "word = 'banana'\n",
        "count = 0\n",
        "for letter in word:\n",
        "  if letter == 'a':\n",
        "    count = count + 1\n",
        "print(count)"
      ],
      "metadata": {
        "colab": {
          "base_uri": "https://localhost:8080/"
        },
        "id": "IIFGnNb0s7gY",
        "outputId": "f1f4da01-3395-4c40-c70e-7226f546509e"
      },
      "execution_count": null,
      "outputs": [
        {
          "output_type": "stream",
          "name": "stdout",
          "text": [
            "3\n"
          ]
        }
      ]
    },
    {
      "cell_type": "markdown",
      "source": [
        "**Analyzation**: This shows how loops are used to count how many times a certain character appears in a string."
      ],
      "metadata": {
        "id": "8QK8_ZiDxdfe"
      }
    },
    {
      "cell_type": "markdown",
      "source": [
        "#Supplementary Activity"
      ],
      "metadata": {
        "id": "73L9OLKlhgwy"
      }
    },
    {
      "cell_type": "code",
      "source": [
        "str = 'CPE-CPE009A-2025: 0.8475'\n",
        "colon_pos = str.find(':')\n",
        "numStr = str[colon_pos+1:].strip()\n",
        "numFloat = float(numStr)\n",
        "print(numFloat)"
      ],
      "metadata": {
        "colab": {
          "base_uri": "https://localhost:8080/"
        },
        "id": "c2y9GHSLhkCp",
        "outputId": "2cf430d1-3ae8-4411-daa7-60dbda919c0e"
      },
      "execution_count": null,
      "outputs": [
        {
          "output_type": "stream",
          "name": "stdout",
          "text": [
            "0.8475\n"
          ]
        }
      ]
    },
    {
      "cell_type": "markdown",
      "source": [
        "**Analyzation**: This program locates the colon in the string, extracts the numeric part that follows, then converts it into a float value."
      ],
      "metadata": {
        "id": "gqReCZPuk3PF"
      }
    },
    {
      "cell_type": "code",
      "source": [
        "firstName = input(\"Enter your first name: \")\n",
        "nameLen = len(firstName)\n",
        "mid = nameLen // 2\n",
        "\n",
        "if nameLen <= 3:\n",
        "    middle = firstName\n",
        "else:\n",
        "    start = mid - 1\n",
        "    middle = firstName[start:start+3]\n",
        "\n",
        "print(\"Middle 3 letters:\", middle)"
      ],
      "metadata": {
        "colab": {
          "base_uri": "https://localhost:8080/"
        },
        "id": "PQ9SFpu0hkFJ",
        "outputId": "37c3eb70-2eac-4707-b3b8-099377a2c666"
      },
      "execution_count": 12,
      "outputs": [
        {
          "output_type": "stream",
          "name": "stdout",
          "text": [
            "Enter your first name: Jezreel\n",
            "Middle 3 letters: zre\n"
          ]
        }
      ]
    },
    {
      "cell_type": "markdown",
      "source": [
        "**Analyzation**: This program takes the user’s first name, calculates the middle position, then extracts and displays the three central characters of the name."
      ],
      "metadata": {
        "id": "gcbiXfAqlPcp"
      }
    }
  ]
}