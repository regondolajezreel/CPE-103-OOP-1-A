{
  "nbformat": 4,
  "nbformat_minor": 0,
  "metadata": {
    "colab": {
      "provenance": [],
      "authorship_tag": "ABX9TyP3V+t9ayN5e22BCW1f96RF",
      "include_colab_link": true
    },
    "kernelspec": {
      "name": "python3",
      "display_name": "Python 3"
    },
    "language_info": {
      "name": "python"
    }
  },
  "cells": [
    {
      "cell_type": "markdown",
      "metadata": {
        "id": "view-in-github",
        "colab_type": "text"
      },
      "source": [
        "<a href=\"https://colab.research.google.com/github/regondolajezreel/CPE-103-OOP-1-A/blob/main/LabActNo_4.ipynb\" target=\"_parent\"><img src=\"https://colab.research.google.com/assets/colab-badge.svg\" alt=\"Open In Colab\"/></a>"
      ]
    },
    {
      "cell_type": "markdown",
      "source": [
        "#Lists"
      ],
      "metadata": {
        "id": "q5p0CAwVEvK7"
      }
    },
    {
      "cell_type": "code",
      "execution_count": 59,
      "metadata": {
        "colab": {
          "base_uri": "https://localhost:8080/",
          "height": 315
        },
        "id": "a8eqIOUCDyts",
        "outputId": "814319e1-aed6-4924-b1e6-6884596bc9fa"
      },
      "outputs": [
        {
          "output_type": "stream",
          "name": "stdout",
          "text": [
            "5\n",
            "5\n",
            "4\n",
            "2\n",
            "1\n",
            "3\n"
          ]
        },
        {
          "output_type": "error",
          "ename": "IndexError",
          "evalue": "list index out of range",
          "traceback": [
            "\u001b[0;31m---------------------------------------------------------------------------\u001b[0m",
            "\u001b[0;31mIndexError\u001b[0m                                Traceback (most recent call last)",
            "\u001b[0;32m<ipython-input-59-d215aecca957>\u001b[0m in \u001b[0;36m<cell line: 0>\u001b[0;34m()\u001b[0m\n\u001b[1;32m      6\u001b[0m \u001b[0mprint\u001b[0m\u001b[0;34m(\u001b[0m\u001b[0mnumberlist\u001b[0m\u001b[0;34m[\u001b[0m\u001b[0;36m3\u001b[0m\u001b[0;34m]\u001b[0m\u001b[0;34m)\u001b[0m\u001b[0;34m\u001b[0m\u001b[0;34m\u001b[0m\u001b[0m\n\u001b[1;32m      7\u001b[0m \u001b[0mprint\u001b[0m\u001b[0;34m(\u001b[0m\u001b[0mnumberlist\u001b[0m\u001b[0;34m[\u001b[0m\u001b[0;36m4\u001b[0m\u001b[0;34m]\u001b[0m\u001b[0;34m)\u001b[0m\u001b[0;34m\u001b[0m\u001b[0;34m\u001b[0m\u001b[0m\n\u001b[0;32m----> 8\u001b[0;31m \u001b[0mprint\u001b[0m\u001b[0;34m(\u001b[0m\u001b[0mnumberlist\u001b[0m\u001b[0;34m[\u001b[0m\u001b[0;36m5\u001b[0m\u001b[0;34m]\u001b[0m\u001b[0;34m)\u001b[0m\u001b[0;34m\u001b[0m\u001b[0;34m\u001b[0m\u001b[0m\n\u001b[0m\u001b[1;32m      9\u001b[0m \u001b[0mprint\u001b[0m\u001b[0;34m(\u001b[0m\u001b[0mnumberlist\u001b[0m\u001b[0;34m[\u001b[0m\u001b[0;34m-\u001b[0m\u001b[0;36m1\u001b[0m\u001b[0;34m]\u001b[0m\u001b[0;34m)\u001b[0m\u001b[0;34m\u001b[0m\u001b[0;34m\u001b[0m\u001b[0m\n\u001b[1;32m     10\u001b[0m \u001b[0mprint\u001b[0m\u001b[0;34m(\u001b[0m\u001b[0mnumberlist\u001b[0m\u001b[0;34m[\u001b[0m\u001b[0;34m-\u001b[0m\u001b[0;36m2\u001b[0m\u001b[0;34m]\u001b[0m\u001b[0;34m)\u001b[0m\u001b[0;34m\u001b[0m\u001b[0;34m\u001b[0m\u001b[0m\n",
            "\u001b[0;31mIndexError\u001b[0m: list index out of range"
          ]
        }
      ],
      "source": [
        "numberlist = [5, 4, 2, 1, 3]\n",
        "print(len(numberlist))\n",
        "print(numberlist[0])\n",
        "print(numberlist[1])\n",
        "print(numberlist[2])\n",
        "print(numberlist[3])\n",
        "print(numberlist[4])\n",
        "print(numberlist[5])\n",
        "print(numberlist[-1])\n",
        "print(numberlist[-2])\n",
        "print(numberlist[-3])\n",
        "print(numberlist[-4])\n",
        "print(numberlist[-5])\n",
        "print(numberlist[-6])"
      ]
    },
    {
      "cell_type": "markdown",
      "source": [
        "Observation: The values numberlist[5] and numberlist[-6] are returning an error because they are out of the lists range."
      ],
      "metadata": {
        "id": "9MimU-jiGL7y"
      }
    },
    {
      "cell_type": "code",
      "source": [
        "itemlist = [1,-2.0,[1,2,3],\"Word\"]\n",
        "print(len(itemlist))\n",
        "print(itemlist [0])\n",
        "print(itemlist [1])\n",
        "print(itemlist [2])\n",
        "print(itemlist [3])\n",
        "print(len(itemlist[2]))\n",
        "print(itemlist [2][0])\n",
        "print(itemlist [2][1])\n",
        "print(itemlist [2][2])\n",
        "print(itemlist [-1])\n",
        "print(itemlist [-2])\n",
        "print(itemlist [-3])\n",
        "print(itemlist [-4])\n",
        "print(len(itemlist[-2]))\n",
        "print(itemlist[-2][1])\n",
        "print(itemlist[-2][2])\n",
        "print(itemlist[-2][-3])\n",
        "print(itemlist[-2][-2])\n",
        "print(itemlist[-2][-1])\n"
      ],
      "metadata": {
        "colab": {
          "base_uri": "https://localhost:8080/"
        },
        "id": "zwt9ckbZFp2C",
        "outputId": "dd287a8a-91ce-4d4a-c038-6b6a1dc6107e"
      },
      "execution_count": 8,
      "outputs": [
        {
          "output_type": "stream",
          "name": "stdout",
          "text": [
            "4\n",
            "1\n",
            "-2.0\n",
            "[1, 2, 3]\n",
            "Word\n",
            "3\n",
            "1\n",
            "2\n",
            "3\n",
            "Word\n",
            "[1, 2, 3]\n",
            "-2.0\n",
            "1\n",
            "3\n",
            "2\n",
            "3\n",
            "1\n",
            "2\n",
            "3\n"
          ]
        }
      ]
    },
    {
      "cell_type": "markdown",
      "source": [
        "Observation: len() is a function that counts how many data are in a list"
      ],
      "metadata": {
        "id": "-_WWUf6KEuc6"
      }
    },
    {
      "cell_type": "markdown",
      "source": [
        "#Index Slicing"
      ],
      "metadata": {
        "id": "wcsrAod3IlDK"
      }
    },
    {
      "cell_type": "code",
      "source": [
        "longlist = numberlist + itemlist\n",
        "print(len(longlist))\n",
        "print(longlist [:])\n",
        "print(longlist[:9])\n",
        "print(longlist[0:])\n",
        "print(longlist[1:])\n",
        "print(longlist[2:])\n"
      ],
      "metadata": {
        "colab": {
          "base_uri": "https://localhost:8080/"
        },
        "id": "UinAtvSrFEMJ",
        "outputId": "6f121a16-5b15-432f-a814-fb23565e5306"
      },
      "execution_count": 9,
      "outputs": [
        {
          "output_type": "stream",
          "name": "stdout",
          "text": [
            "9\n",
            "[5, 4, 2, 1, 3, 1, -2.0, [1, 2, 3], 'Word']\n",
            "[5, 4, 2, 1, 3, 1, -2.0, [1, 2, 3], 'Word']\n",
            "[5, 4, 2, 1, 3, 1, -2.0, [1, 2, 3], 'Word']\n",
            "[4, 2, 1, 3, 1, -2.0, [1, 2, 3], 'Word']\n",
            "[2, 1, 3, 1, -2.0, [1, 2, 3], 'Word']\n"
          ]
        }
      ]
    },
    {
      "cell_type": "markdown",
      "source": [
        "Index Slicing with Range"
      ],
      "metadata": {
        "id": "aThJm_UbJKWJ"
      }
    },
    {
      "cell_type": "code",
      "source": [
        "print(longlist[2:5])\n",
        "print(longlist[5:2])\n",
        "print(longlist[8:])\n",
        "print(longlist[9:])"
      ],
      "metadata": {
        "colab": {
          "base_uri": "https://localhost:8080/"
        },
        "id": "xdnn2MGNJOSo",
        "outputId": "9e282923-be71-4abb-d832-9677d3140655"
      },
      "execution_count": 10,
      "outputs": [
        {
          "output_type": "stream",
          "name": "stdout",
          "text": [
            "[2, 1, 3]\n",
            "[]\n",
            "['Word']\n",
            "[]\n"
          ]
        }
      ]
    },
    {
      "cell_type": "markdown",
      "source": [
        "Index Slicing using Negative Indices"
      ],
      "metadata": {
        "id": "BfQBz0AyJZtZ"
      }
    },
    {
      "cell_type": "code",
      "source": [
        "print(longlist[-9:])\n",
        "print(longlist[-8:])\n",
        "print(longlist[-8:-7])\n",
        "print(longlist[-1:])"
      ],
      "metadata": {
        "colab": {
          "base_uri": "https://localhost:8080/"
        },
        "id": "iWnYvQg2JZ9a",
        "outputId": "5a27ae78-886f-4792-ef78-a30aa8bc8ed7"
      },
      "execution_count": 13,
      "outputs": [
        {
          "output_type": "stream",
          "name": "stdout",
          "text": [
            "[5, 4, 2, 1, 3, 1, -2.0, [1, 2, 3], 'Word']\n",
            "[4, 2, 1, 3, 1, -2.0, [1, 2, 3], 'Word']\n",
            "[4]\n",
            "['Word']\n"
          ]
        }
      ]
    },
    {
      "cell_type": "markdown",
      "source": [
        "Other properties of Index Slicing"
      ],
      "metadata": {
        "id": "csOQvrwIJaWv"
      }
    },
    {
      "cell_type": "code",
      "source": [
        "print(longlist[10:20])\n",
        "print(longlist[-7:5])"
      ],
      "metadata": {
        "colab": {
          "base_uri": "https://localhost:8080/"
        },
        "id": "yfzrT3iUJavg",
        "outputId": "6a43b298-4159-47b4-d305-ffdf948bc305"
      },
      "execution_count": 14,
      "outputs": [
        {
          "output_type": "stream",
          "name": "stdout",
          "text": [
            "[]\n",
            "[2, 1, 3]\n"
          ]
        }
      ]
    },
    {
      "cell_type": "markdown",
      "source": [
        "Index Slicing with Step parameter"
      ],
      "metadata": {
        "id": "8BkDPnt6J0OR"
      }
    },
    {
      "cell_type": "code",
      "source": [
        "print(longlist[::1])\n",
        "print(longlist[::2])\n",
        "print(longlist[1:8:2])\n",
        "print(longlist[9:1:-1])\n",
        "print(longlist[-1::1])\n",
        "print(longlist[-1::-1])"
      ],
      "metadata": {
        "colab": {
          "base_uri": "https://localhost:8080/"
        },
        "id": "44OksDxzJ3jx",
        "outputId": "ae93e763-a536-4776-9003-f50abc3532d8"
      },
      "execution_count": 15,
      "outputs": [
        {
          "output_type": "stream",
          "name": "stdout",
          "text": [
            "[5, 4, 2, 1, 3, 1, -2.0, [1, 2, 3], 'Word']\n",
            "[5, 2, 3, -2.0, 'Word']\n",
            "[4, 1, 1, [1, 2, 3]]\n",
            "['Word', [1, 2, 3], -2.0, 1, 3, 1, 2]\n",
            "['Word']\n",
            "['Word', [1, 2, 3], -2.0, 1, 3, 1, 2, 4, 5]\n"
          ]
        }
      ]
    },
    {
      "cell_type": "markdown",
      "source": [
        "Observation: Index slicing in Python is a useful way to get or change parts of a list, using start, stop, and step values, and it works with both positive and negative indices, even when the values are out of range."
      ],
      "metadata": {
        "id": "4QLEmEF5MtiH"
      }
    },
    {
      "cell_type": "markdown",
      "source": [
        "#List Methods and the Mutable Property of Lists"
      ],
      "metadata": {
        "id": "16fZUYfTMt2X"
      }
    },
    {
      "cell_type": "code",
      "source": [
        "numberlist2= numberlist\n",
        "print(numberlist)\n",
        "print(numberlist2, \"\\n\")\n",
        "\n",
        "numberlist[0] = 6\n",
        "print(numberlist)\n",
        "print(numberlist2)"
      ],
      "metadata": {
        "colab": {
          "base_uri": "https://localhost:8080/"
        },
        "id": "fV9d1cUtM3Vg",
        "outputId": "db69c30d-b958-493b-a78b-f11505eb2e09"
      },
      "execution_count": 17,
      "outputs": [
        {
          "output_type": "stream",
          "name": "stdout",
          "text": [
            "[5, 4, 2, 1, 3]\n",
            "[5, 4, 2, 1, 3] \n",
            "\n",
            "[6, 4, 2, 1, 3]\n",
            "[6, 4, 2, 1, 3]\n"
          ]
        }
      ]
    },
    {
      "cell_type": "code",
      "source": [
        "numberlist2 = numberlist.copy()\n",
        "print(numberlist2, \"\\n\")\n",
        "\n",
        "numberlist[0] = 5\n",
        "print(numberlist)\n",
        "print(numberlist2)"
      ],
      "metadata": {
        "colab": {
          "base_uri": "https://localhost:8080/"
        },
        "id": "fhd9LN1jNoOY",
        "outputId": "74ea95c4-eb40-458a-cf4f-33e7f016944c"
      },
      "execution_count": 19,
      "outputs": [
        {
          "output_type": "stream",
          "name": "stdout",
          "text": [
            "[6, 4, 2, 1, 3] \n",
            "\n",
            "[5, 4, 2, 1, 3]\n",
            "[6, 4, 2, 1, 3]\n"
          ]
        }
      ]
    },
    {
      "cell_type": "markdown",
      "source": [
        "Observation:"
      ],
      "metadata": {
        "id": "oefQ2kyQO0yX"
      }
    },
    {
      "cell_type": "markdown",
      "source": [
        "#Exploring some List Functions and Methods"
      ],
      "metadata": {
        "id": "rNA6ROQyO63f"
      }
    },
    {
      "cell_type": "code",
      "source": [
        "print(numberlist)\n",
        "numberlist.append(6)"
      ],
      "metadata": {
        "colab": {
          "base_uri": "https://localhost:8080/"
        },
        "id": "liT530pEOyyQ",
        "outputId": "8a53a290-47f3-4fc7-8430-cb31e3f8c323"
      },
      "execution_count": 45,
      "outputs": [
        {
          "output_type": "stream",
          "name": "stdout",
          "text": [
            "[5, 4, 2, 1, 3]\n"
          ]
        }
      ]
    },
    {
      "cell_type": "code",
      "source": [
        "print(numberlist)\n",
        "numberlist.pop()"
      ],
      "metadata": {
        "colab": {
          "base_uri": "https://localhost:8080/"
        },
        "id": "2DDN07bhQ0ZA",
        "outputId": "b97fa7c1-93f8-412c-ccbf-6c4ac8445ce4"
      },
      "execution_count": 46,
      "outputs": [
        {
          "output_type": "stream",
          "name": "stdout",
          "text": [
            "[5, 4, 2, 1, 3, 6]\n"
          ]
        },
        {
          "output_type": "execute_result",
          "data": {
            "text/plain": [
              "6"
            ]
          },
          "metadata": {},
          "execution_count": 46
        }
      ]
    },
    {
      "cell_type": "code",
      "source": [
        "print(numberlist)\n",
        "numberlist.sort()"
      ],
      "metadata": {
        "colab": {
          "base_uri": "https://localhost:8080/"
        },
        "id": "5B_IyrUZQ5mn",
        "outputId": "23f591a1-7169-492d-ba49-856a11e02903"
      },
      "execution_count": 60,
      "outputs": [
        {
          "output_type": "stream",
          "name": "stdout",
          "text": [
            "[5, 4, 2, 1, 3]\n"
          ]
        }
      ]
    },
    {
      "cell_type": "code",
      "source": [
        "print(numberlist)\n",
        "itemlist.sort()"
      ],
      "metadata": {
        "colab": {
          "base_uri": "https://localhost:8080/",
          "height": 176
        },
        "id": "-lxulsbaRWVQ",
        "outputId": "2df1f586-1f72-4649-d9c2-3544024a6a67"
      },
      "execution_count": 61,
      "outputs": [
        {
          "output_type": "stream",
          "name": "stdout",
          "text": [
            "[1, 2, 3, 4, 5]\n"
          ]
        },
        {
          "output_type": "error",
          "ename": "TypeError",
          "evalue": "'<' not supported between instances of 'list' and 'float'",
          "traceback": [
            "\u001b[0;31m---------------------------------------------------------------------------\u001b[0m",
            "\u001b[0;31mTypeError\u001b[0m                                 Traceback (most recent call last)",
            "\u001b[0;32m<ipython-input-61-76ed130eccbe>\u001b[0m in \u001b[0;36m<cell line: 0>\u001b[0;34m()\u001b[0m\n\u001b[1;32m      1\u001b[0m \u001b[0mprint\u001b[0m\u001b[0;34m(\u001b[0m\u001b[0mnumberlist\u001b[0m\u001b[0;34m)\u001b[0m\u001b[0;34m\u001b[0m\u001b[0;34m\u001b[0m\u001b[0m\n\u001b[0;32m----> 2\u001b[0;31m \u001b[0mitemlist\u001b[0m\u001b[0;34m.\u001b[0m\u001b[0msort\u001b[0m\u001b[0;34m(\u001b[0m\u001b[0;34m)\u001b[0m\u001b[0;34m\u001b[0m\u001b[0;34m\u001b[0m\u001b[0m\n\u001b[0m",
            "\u001b[0;31mTypeError\u001b[0m: '<' not supported between instances of 'list' and 'float'"
          ]
        }
      ]
    },
    {
      "cell_type": "code",
      "source": [
        "print(min(numberlist))\n",
        "print(max(numberlist))"
      ],
      "metadata": {
        "colab": {
          "base_uri": "https://localhost:8080/"
        },
        "id": "Zp_7XTFlRZ_v",
        "outputId": "6ab961fd-9d1f-4b8f-ae3f-c81fdac1fe45"
      },
      "execution_count": 53,
      "outputs": [
        {
          "output_type": "stream",
          "name": "stdout",
          "text": [
            "1\n",
            "5\n"
          ]
        }
      ]
    },
    {
      "cell_type": "code",
      "source": [
        "print(longlist)\n",
        "print(longlist.count(1))\n",
        "print(longlist[7].count(1))"
      ],
      "metadata": {
        "colab": {
          "base_uri": "https://localhost:8080/"
        },
        "id": "txZQ-6HKShzY",
        "outputId": "7ed7f006-8f20-4b38-8bd2-8bcb1f982f37"
      },
      "execution_count": 62,
      "outputs": [
        {
          "output_type": "stream",
          "name": "stdout",
          "text": [
            "[5, 4, 2, 1, 3, 1, -2.0, [1, 2, 3], 'Word']\n",
            "2\n",
            "1\n"
          ]
        }
      ]
    },
    {
      "cell_type": "markdown",
      "source": [
        "#The in operator"
      ],
      "metadata": {
        "id": "wtd8BOanWr4f"
      }
    },
    {
      "cell_type": "code",
      "source": [
        "print(3 in longlist)"
      ],
      "metadata": {
        "colab": {
          "base_uri": "https://localhost:8080/"
        },
        "id": "QsCF1_DSXIHO",
        "outputId": "eb895b3f-7a16-4170-c15e-3238940a66c2"
      },
      "execution_count": 63,
      "outputs": [
        {
          "output_type": "stream",
          "name": "stdout",
          "text": [
            "True\n"
          ]
        }
      ]
    },
    {
      "cell_type": "code",
      "source": [
        "print(15 in longlist)"
      ],
      "metadata": {
        "colab": {
          "base_uri": "https://localhost:8080/"
        },
        "id": "UIhboSNoXLyu",
        "outputId": "45bc3f49-5c7c-442c-ebbd-07aaa28b84c2"
      },
      "execution_count": 64,
      "outputs": [
        {
          "output_type": "stream",
          "name": "stdout",
          "text": [
            "False\n"
          ]
        }
      ]
    },
    {
      "cell_type": "code",
      "source": [
        "num = int(input(\"Enter a number: \"))\n",
        "if num in longlist:\n",
        "  print(\"The number is in longlist\")\n",
        "else:\n",
        "  print(\"The number is not in longlist\")\n"
      ],
      "metadata": {
        "colab": {
          "base_uri": "https://localhost:8080/"
        },
        "id": "krUdv8Q5XOJe",
        "outputId": "406be38b-6411-432b-9717-bd29ab499f9c"
      },
      "execution_count": 65,
      "outputs": [
        {
          "output_type": "stream",
          "name": "stdout",
          "text": [
            "Enter a number: 5\n",
            "The number is in longlist\n"
          ]
        }
      ]
    },
    {
      "cell_type": "markdown",
      "source": [
        "#Using a list in an iterative statement"
      ],
      "metadata": {
        "id": "ATeRvCH5XrnW"
      }
    },
    {
      "cell_type": "code",
      "source": [
        "for item in longlist:\n",
        "  print(item)"
      ],
      "metadata": {
        "colab": {
          "base_uri": "https://localhost:8080/"
        },
        "id": "QyGFbcT3X00G",
        "outputId": "e169f1a8-0343-4aa7-d34f-3e468ca8a6ec"
      },
      "execution_count": 66,
      "outputs": [
        {
          "output_type": "stream",
          "name": "stdout",
          "text": [
            "5\n",
            "4\n",
            "2\n",
            "1\n",
            "3\n",
            "1\n",
            "-2.0\n",
            "[1, 2, 3]\n",
            "Word\n"
          ]
        }
      ]
    },
    {
      "cell_type": "code",
      "source": [
        "i=0\n",
        "while i<len(longlist):\n",
        "  print(longlist[i])\n",
        "  i+=1"
      ],
      "metadata": {
        "colab": {
          "base_uri": "https://localhost:8080/"
        },
        "id": "1ML-pYroYb0G",
        "outputId": "417820e2-5ab9-427a-a91b-1da39ff8f468"
      },
      "execution_count": 68,
      "outputs": [
        {
          "output_type": "stream",
          "name": "stdout",
          "text": [
            "5\n",
            "4\n",
            "2\n",
            "1\n",
            "3\n",
            "1\n",
            "-2.0\n",
            "[1, 2, 3]\n",
            "Word\n"
          ]
        }
      ]
    },
    {
      "cell_type": "markdown",
      "source": [
        "#Strings"
      ],
      "metadata": {
        "id": "N2fR-VA3ZKBt"
      }
    },
    {
      "cell_type": "code",
      "source": [
        "message = \"Hello World\"\n",
        "print(message)\n",
        "print(len(message))"
      ],
      "metadata": {
        "colab": {
          "base_uri": "https://localhost:8080/"
        },
        "id": "CfeSeIXYZM6P",
        "outputId": "83a8f2de-ebfc-4661-c9c5-fcd938c14a7e"
      },
      "execution_count": 69,
      "outputs": [
        {
          "output_type": "stream",
          "name": "stdout",
          "text": [
            "Hello World\n",
            "11\n"
          ]
        }
      ]
    },
    {
      "cell_type": "code",
      "source": [
        "print(message[0], message[1], message[2], message[3], message[4])\n",
        "print(message[-11], message[-10], message[-9], message[-8], message[-7])"
      ],
      "metadata": {
        "colab": {
          "base_uri": "https://localhost:8080/"
        },
        "id": "jwWnUu76ZeRW",
        "outputId": "8ab610ad-f0b5-4026-d229-140a4f345158"
      },
      "execution_count": 71,
      "outputs": [
        {
          "output_type": "stream",
          "name": "stdout",
          "text": [
            "H e l l o\n",
            "H e l l o\n"
          ]
        }
      ]
    },
    {
      "cell_type": "code",
      "source": [
        "print(message[0] + message[4] + message[2] + message[10])"
      ],
      "metadata": {
        "colab": {
          "base_uri": "https://localhost:8080/"
        },
        "id": "s8t_Qwf6aDGu",
        "outputId": "ae0b4945-52a8-4646-b43a-906684169dac"
      },
      "execution_count": 74,
      "outputs": [
        {
          "output_type": "stream",
          "name": "stdout",
          "text": [
            "Hold\n"
          ]
        }
      ]
    },
    {
      "cell_type": "code",
      "source": [
        "print(message[0:5])\n",
        "print(message[6:11])"
      ],
      "metadata": {
        "colab": {
          "base_uri": "https://localhost:8080/"
        },
        "id": "2N2mX4Mnam3m",
        "outputId": "660d6e0f-a853-411a-aa8b-a9cded002099"
      },
      "execution_count": 77,
      "outputs": [
        {
          "output_type": "stream",
          "name": "stdout",
          "text": [
            "Hello\n",
            "World\n"
          ]
        }
      ]
    },
    {
      "cell_type": "markdown",
      "source": [
        "#String Methods"
      ],
      "metadata": {
        "id": "hUIjExETa2i9"
      }
    },
    {
      "cell_type": "code",
      "source": [
        "message.upper()"
      ],
      "metadata": {
        "colab": {
          "base_uri": "https://localhost:8080/",
          "height": 35
        },
        "id": "ji4STupga7g1",
        "outputId": "802a3b68-c159-45b9-95a5-9cfd773c7e77"
      },
      "execution_count": 80,
      "outputs": [
        {
          "output_type": "execute_result",
          "data": {
            "text/plain": [
              "'HELLO WORLD'"
            ],
            "application/vnd.google.colaboratory.intrinsic+json": {
              "type": "string"
            }
          },
          "metadata": {},
          "execution_count": 80
        }
      ]
    },
    {
      "cell_type": "code",
      "source": [
        "message.lower()"
      ],
      "metadata": {
        "colab": {
          "base_uri": "https://localhost:8080/",
          "height": 35
        },
        "id": "gEQtLLZobzPV",
        "outputId": "115f7fb9-d902-4f60-84a2-452fffeff5a5"
      },
      "execution_count": 82,
      "outputs": [
        {
          "output_type": "execute_result",
          "data": {
            "text/plain": [
              "'hello world'"
            ],
            "application/vnd.google.colaboratory.intrinsic+json": {
              "type": "string"
            }
          },
          "metadata": {},
          "execution_count": 82
        }
      ]
    },
    {
      "cell_type": "code",
      "source": [
        "message.title()"
      ],
      "metadata": {
        "colab": {
          "base_uri": "https://localhost:8080/",
          "height": 35
        },
        "id": "fBKkDK6lb0rU",
        "outputId": "bee359c9-1766-4ab4-fb4f-187901bacc6a"
      },
      "execution_count": 81,
      "outputs": [
        {
          "output_type": "execute_result",
          "data": {
            "text/plain": [
              "'Hello World'"
            ],
            "application/vnd.google.colaboratory.intrinsic+json": {
              "type": "string"
            }
          },
          "metadata": {},
          "execution_count": 81
        }
      ]
    },
    {
      "cell_type": "code",
      "source": [
        "print(\"Value 1 is {}, and value 2 is {}\".format(-1,True))"
      ],
      "metadata": {
        "colab": {
          "base_uri": "https://localhost:8080/"
        },
        "id": "DJM3szbYb2jF",
        "outputId": "a1e562cd-907e-414d-82c8-5be43035ff4f"
      },
      "execution_count": 83,
      "outputs": [
        {
          "output_type": "stream",
          "name": "stdout",
          "text": [
            "Value 1 is -1, and value 2 is True\n"
          ]
        }
      ]
    },
    {
      "cell_type": "code",
      "source": [
        "print(message.split(' '))"
      ],
      "metadata": {
        "colab": {
          "base_uri": "https://localhost:8080/"
        },
        "id": "zgfkVEN1cGK-",
        "outputId": "1737f386-84e0-4176-f627-a5926198fd19"
      },
      "execution_count": 84,
      "outputs": [
        {
          "output_type": "stream",
          "name": "stdout",
          "text": [
            "['Hello', 'World']\n"
          ]
        }
      ]
    },
    {
      "cell_type": "code",
      "source": [
        "print(message.count('l'))"
      ],
      "metadata": {
        "colab": {
          "base_uri": "https://localhost:8080/"
        },
        "id": "y0n2mBgVceGm",
        "outputId": "dc35d6f0-7c32-4563-f51f-12a7474eb636"
      },
      "execution_count": 86,
      "outputs": [
        {
          "output_type": "stream",
          "name": "stdout",
          "text": [
            "3\n"
          ]
        }
      ]
    },
    {
      "cell_type": "code",
      "source": [
        "message.replace('World','CPE009')"
      ],
      "metadata": {
        "colab": {
          "base_uri": "https://localhost:8080/",
          "height": 35
        },
        "id": "TZgNMbm0czwN",
        "outputId": "d4954f91-5884-4cf2-cec9-566a90a96a00"
      },
      "execution_count": 87,
      "outputs": [
        {
          "output_type": "execute_result",
          "data": {
            "text/plain": [
              "'Hello CPE009'"
            ],
            "application/vnd.google.colaboratory.intrinsic+json": {
              "type": "string"
            }
          },
          "metadata": {},
          "execution_count": 87
        }
      ]
    },
    {
      "cell_type": "code",
      "source": [
        "message = message.replace('World','CPE009')\n",
        "print(message)"
      ],
      "metadata": {
        "colab": {
          "base_uri": "https://localhost:8080/"
        },
        "id": "KVEFO9IZdESO",
        "outputId": "9cb685f9-8365-4b93-9e5d-d6a53933b4d5"
      },
      "execution_count": 89,
      "outputs": [
        {
          "output_type": "stream",
          "name": "stdout",
          "text": [
            "Hello CPE009\n"
          ]
        }
      ]
    },
    {
      "cell_type": "code",
      "source": [
        "help(\"len\")"
      ],
      "metadata": {
        "colab": {
          "base_uri": "https://localhost:8080/"
        },
        "id": "ZGQabOfddOOt",
        "outputId": "e9e532bd-6dba-409b-9e31-1bd0a84e5486"
      },
      "execution_count": 91,
      "outputs": [
        {
          "output_type": "stream",
          "name": "stdout",
          "text": [
            "Help on built-in function len in module builtins:\n",
            "\n",
            "len(obj, /)\n",
            "    Return the number of items in a container.\n",
            "\n"
          ]
        }
      ]
    },
    {
      "cell_type": "markdown",
      "source": [
        "#The in operators for Strings"
      ],
      "metadata": {
        "id": "y9UR6ZNDeV1d"
      }
    },
    {
      "cell_type": "code",
      "source": [
        "print('W' in message)"
      ],
      "metadata": {
        "colab": {
          "base_uri": "https://localhost:8080/"
        },
        "id": "s-WxBk9SecG9",
        "outputId": "7fd3fdd1-bc61-4d95-8ee7-af03f552e354"
      },
      "execution_count": 92,
      "outputs": [
        {
          "output_type": "stream",
          "name": "stdout",
          "text": [
            "False\n"
          ]
        }
      ]
    },
    {
      "cell_type": "code",
      "source": [
        "print('old' in message)"
      ],
      "metadata": {
        "colab": {
          "base_uri": "https://localhost:8080/"
        },
        "id": "43krWpDpekmN",
        "outputId": "1e88a7cc-9664-46ca-e289-00f6954d70d1"
      },
      "execution_count": 93,
      "outputs": [
        {
          "output_type": "stream",
          "name": "stdout",
          "text": [
            "False\n"
          ]
        }
      ]
    },
    {
      "cell_type": "code",
      "source": [
        "word = input(\"Enter a word: \")\n",
        "if word in \"The big brown fox jump over the lazy dog\":\n",
        "  print(\"The word is in the text\")\n",
        "else:\n",
        "  print(\"The word is not in the text\")\n"
      ],
      "metadata": {
        "colab": {
          "base_uri": "https://localhost:8080/"
        },
        "id": "DmLmWioSej4V",
        "outputId": "6bbcad8a-6288-4e0b-fa23-88b6c5ca4420"
      },
      "execution_count": 94,
      "outputs": [
        {
          "output_type": "stream",
          "name": "stdout",
          "text": [
            "Enter a word: big\n",
            "The word is in the text\n"
          ]
        }
      ]
    },
    {
      "cell_type": "markdown",
      "source": [
        "#Using a String in an iterative statement"
      ],
      "metadata": {
        "id": "rbgHQIrcfS1t"
      }
    },
    {
      "cell_type": "code",
      "source": [
        "for character in message:\n",
        "  print(character)\n"
      ],
      "metadata": {
        "colab": {
          "base_uri": "https://localhost:8080/"
        },
        "id": "N2GDf3Gff97m",
        "outputId": "83906477-363f-4a49-9054-637d86ce9e87"
      },
      "execution_count": 95,
      "outputs": [
        {
          "output_type": "stream",
          "name": "stdout",
          "text": [
            "H\n",
            "e\n",
            "l\n",
            "l\n",
            "o\n",
            " \n",
            "C\n",
            "P\n",
            "E\n",
            "0\n",
            "0\n",
            "9\n"
          ]
        }
      ]
    },
    {
      "cell_type": "code",
      "source": [
        "i = 0\n",
        "while i<len(message):\n",
        "  print(message[i])\n",
        "  i+=1"
      ],
      "metadata": {
        "colab": {
          "base_uri": "https://localhost:8080/"
        },
        "id": "QHTkgwFHgJ8U",
        "outputId": "e06b0325-5560-4a90-91bc-1d9610fac9cb"
      },
      "execution_count": 96,
      "outputs": [
        {
          "output_type": "stream",
          "name": "stdout",
          "text": [
            "H\n",
            "e\n",
            "l\n",
            "l\n",
            "o\n",
            " \n",
            "C\n",
            "P\n",
            "E\n",
            "0\n",
            "0\n",
            "9\n"
          ]
        }
      ]
    },
    {
      "cell_type": "markdown",
      "source": [
        "#Tuples"
      ],
      "metadata": {
        "id": "rOA7-0hqg-KN"
      }
    },
    {
      "cell_type": "code",
      "source": [
        "tuplelist = (1, 2, 3, 4, 5)\n",
        "print(numberlist[0])\n",
        "print(numberlist[1])\n",
        "print(numberlist[2])\n",
        "print(numberlist[3])\n",
        "print(numberlist[4])"
      ],
      "metadata": {
        "colab": {
          "base_uri": "https://localhost:8080/"
        },
        "id": "roNKSxE7g_-G",
        "outputId": "16986d47-23dd-46c7-f280-28e64b8bb8b0"
      },
      "execution_count": 99,
      "outputs": [
        {
          "output_type": "stream",
          "name": "stdout",
          "text": [
            "1\n",
            "2\n",
            "3\n",
            "4\n",
            "5\n"
          ]
        }
      ]
    },
    {
      "cell_type": "code",
      "source": [
        "print(tuplelist + (1, 2, 3))"
      ],
      "metadata": {
        "colab": {
          "base_uri": "https://localhost:8080/"
        },
        "id": "7y5Kd2RDhZSF",
        "outputId": "5a4df463-0344-4dae-a3d6-0e97bf88b1c8"
      },
      "execution_count": 100,
      "outputs": [
        {
          "output_type": "stream",
          "name": "stdout",
          "text": [
            "(1, 2, 3, 4, 5, 1, 2, 3)\n"
          ]
        }
      ]
    },
    {
      "cell_type": "code",
      "source": [
        "tuplelist[0] = 15"
      ],
      "metadata": {
        "colab": {
          "base_uri": "https://localhost:8080/",
          "height": 106
        },
        "id": "qzWeK7A5hfmF",
        "outputId": "e2717608-4959-4e63-a25f-dff02d7499be"
      },
      "execution_count": 102,
      "outputs": [
        {
          "output_type": "error",
          "ename": "SyntaxError",
          "evalue": "cannot assign to function call here. Maybe you meant '==' instead of '='? (<ipython-input-102-015ee2d2ce18>, line 1)",
          "traceback": [
            "\u001b[0;36m  File \u001b[0;32m\"<ipython-input-102-015ee2d2ce18>\"\u001b[0;36m, line \u001b[0;32m1\u001b[0m\n\u001b[0;31m    tuplelist(0) = 15\u001b[0m\n\u001b[0m    ^\u001b[0m\n\u001b[0;31mSyntaxError\u001b[0m\u001b[0;31m:\u001b[0m cannot assign to function call here. Maybe you meant '==' instead of '='?\n"
          ]
        }
      ]
    },
    {
      "cell_type": "code",
      "source": [
        "print(tuplelist[1:])"
      ],
      "metadata": {
        "colab": {
          "base_uri": "https://localhost:8080/"
        },
        "id": "TbeDNoMUh5Cd",
        "outputId": "dad1ea57-94b4-46e7-8111-82fd5a8ea962"
      },
      "execution_count": 103,
      "outputs": [
        {
          "output_type": "stream",
          "name": "stdout",
          "text": [
            "(2, 3, 4, 5)\n"
          ]
        }
      ]
    }
  ]
}