{
  "nbformat": 4,
  "nbformat_minor": 0,
  "metadata": {
    "colab": {
      "provenance": [],
      "authorship_tag": "ABX9TyNIVB3C2bh7ekBE7YXUa8ZA",
      "include_colab_link": true
    },
    "kernelspec": {
      "name": "python3",
      "display_name": "Python 3"
    },
    "language_info": {
      "name": "python"
    }
  },
  "cells": [
    {
      "cell_type": "markdown",
      "metadata": {
        "id": "view-in-github",
        "colab_type": "text"
      },
      "source": [
        "<a href=\"https://colab.research.google.com/github/regondolajezreel/CPE-103-OOP-1-A/blob/main/LaboratotyActNo_7.ipynb\" target=\"_parent\"><img src=\"https://colab.research.google.com/assets/colab-badge.svg\" alt=\"Open In Colab\"/></a>"
      ]
    },
    {
      "cell_type": "code",
      "execution_count": 16,
      "metadata": {
        "colab": {
          "base_uri": "https://localhost:8080/"
        },
        "id": "hxlm8W5ST6Ho",
        "outputId": "f5ed0483-23b8-4b29-c93b-a36e18a2fa42"
      },
      "outputs": [
        {
          "output_type": "stream",
          "name": "stdout",
          "text": [
            "Enter feet and inches of distance1: 1 2\n",
            "Enter feet and inches of distance2: 3 4\n",
            "Distance2 is greater or equal to Distance1\n",
            "Sum of the two Distance is:\n",
            "Feet=  4 Inches=  6\n"
          ]
        }
      ],
      "source": [
        "# distance is a class. Distance is measured in terms of feet and inches\n",
        "class distance:\n",
        "  def __init__(self, f,i):\n",
        "    self.feet=f\n",
        "    self.inches=i\n",
        "\n",
        "    # overloading of binary operator > to compare two distances\n",
        "  def __gt__(self,d):\n",
        "    if(self.feet>d.feet):\n",
        "       return(True)\n",
        "    elif((self.feet==d.feet) and (self.inches>d.inches)):\n",
        "      return(True)\n",
        "    else:\n",
        "      return(False)\n",
        "\n",
        "    # overloading of binary operator + to add two distances\n",
        "  def __add__(self, d):\n",
        "    i=self.inches + d.inches\n",
        "    f=self.feet + d.feet\n",
        "    if(i>=12):\n",
        "       i=i-12\n",
        "       f=f+1\n",
        "    return distance(f,i)\n",
        "\n",
        "# displaying the distance\n",
        "  def show(self):\n",
        "      print(\"Feet= \", self.feet, \"Inches= \",self.inches)\n",
        "\n",
        "a,b= (input(\"Enter feet and inches of distance1: \")).split()\n",
        "a,b =[int(a),int(b)]\n",
        "\n",
        "c,d= (input(\"Enter feet and inches of distance2: \")).split()\n",
        "c,d =[int(c),int(d)]\n",
        "\n",
        "d1 = distance(a,b)\n",
        "d2 = distance(c,d)\n",
        "\n",
        "if(d1 > d2):\n",
        "  print(\"Distance1 is greater than Distance2\")\n",
        "else:\n",
        "  print(\"Distance2 is greater or equal to Distance1\")\n",
        "  d3=d1+d2\n",
        "  print(\"Sum of the two Distance is:\")\n",
        "  d3.show()\n"
      ]
    },
    {
      "cell_type": "code",
      "source": [
        "class RegularPolygon:\n",
        "  def __init__(self, side):\n",
        "    self._side = side\n",
        "class Square(RegularPolygon):\n",
        "  def area(self):\n",
        "    return self. _side * self ._side\n",
        "class EquilateralTriangle(RegularPolygon):\n",
        "  def area (self):\n",
        "    return self ._side * self ._side * 0.433\n",
        "\n",
        "obj1 = Square(4)\n",
        "obj2 = EquilateralTriangle(3)\n",
        "\n",
        "print (obj1.area())\n",
        "print (obj2.area())"
      ],
      "metadata": {
        "colab": {
          "base_uri": "https://localhost:8080/"
        },
        "id": "0_rq7eEfW2rr",
        "outputId": "7e487f4a-a6a3-48d0-c33a-198427c46a0e"
      },
      "execution_count": 23,
      "outputs": [
        {
          "output_type": "stream",
          "name": "stdout",
          "text": [
            "16\n",
            "3.897\n"
          ]
        }
      ]
    },
    {
      "cell_type": "markdown",
      "source": [
        "#SUPLEMENTARY ACTIVITY"
      ],
      "metadata": {
        "id": "YjWUWjyrZacT"
      }
    },
    {
      "cell_type": "code",
      "source": [
        "import math\n",
        "\n",
        "class RegularPolygon:\n",
        "    def __init__(self, side):\n",
        "        self._side = side\n",
        "\n",
        "class Pentagon(RegularPolygon):\n",
        "    def area(self):\n",
        "        return (1 / 4) * math.sqrt(5 * (5 + 2 * math.sqrt(5))) * self._side * self._side\n",
        "\n",
        "class Hexagon(RegularPolygon):\n",
        "    def area(self):\n",
        "        return (3 * math.sqrt(3) / 2) * self._side * self._side\n",
        "\n",
        "class Octagon(RegularPolygon):\n",
        "    def area(self):\n",
        "        return 2 * (1 + math.sqrt(2)) * self._side * self._side\n",
        "\n",
        "obj3 = Pentagon(5)\n",
        "obj4 = Hexagon(6)\n",
        "obj5 = Octagon(8)\n",
        "\n",
        "print(f\"Pentagon Area (side 5): {obj3.area():.2f}\")\n",
        "print(f\"Hexagon Area (side 6): {obj4.area():.2f}\")\n",
        "print(f\"Octagon Area (side 8): {obj5.area():.2f}\")"
      ],
      "metadata": {
        "colab": {
          "base_uri": "https://localhost:8080/"
        },
        "id": "aKLfoT_dZaND",
        "outputId": "497624cb-81e9-4aad-bcd0-47c6eb772f08"
      },
      "execution_count": 27,
      "outputs": [
        {
          "output_type": "stream",
          "name": "stdout",
          "text": [
            "Pentagon Area (side 5): 43.01\n",
            "Hexagon Area (side 6): 93.53\n",
            "Octagon Area (side 8): 309.02\n"
          ]
        }
      ]
    }
  ]
}