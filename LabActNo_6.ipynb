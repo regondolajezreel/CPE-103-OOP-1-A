{
  "nbformat": 4,
  "nbformat_minor": 0,
  "metadata": {
    "colab": {
      "provenance": [],
      "authorship_tag": "ABX9TyPvXRliKsRm7OHCCNjHrhFy",
      "include_colab_link": true
    },
    "kernelspec": {
      "name": "python3",
      "display_name": "Python 3"
    },
    "language_info": {
      "name": "python"
    }
  },
  "cells": [
    {
      "cell_type": "markdown",
      "metadata": {
        "id": "view-in-github",
        "colab_type": "text"
      },
      "source": [
        "<a href=\"https://colab.research.google.com/github/regondolajezreel/CPE-103-OOP-1-A/blob/main/LabActNo_6.ipynb\" target=\"_parent\"><img src=\"https://colab.research.google.com/assets/colab-badge.svg\" alt=\"Open In Colab\"/></a>"
      ]
    },
    {
      "cell_type": "markdown",
      "source": [
        "#Creating The Classes"
      ],
      "metadata": {
        "id": "7UT99YodBJtd"
      }
    },
    {
      "cell_type": "code",
      "source": [
        "class Character():\n",
        "    def __init__(self, username):\n",
        "        self._username = username\n",
        "        self._hp = 100\n",
        "        self._mana = 100\n",
        "        self._damage = 5\n",
        "        self._str = 0  # strength stat\n",
        "        self._vit = 0  # vitality stat\n",
        "        self._int = 0  # intelligence stat\n",
        "        self._agi = 0  # agility stat\n",
        "\n",
        "    def getUsername(self):\n",
        "        return self._username\n",
        "\n",
        "    def setUsername(self, new_username):\n",
        "        self._username = new_username\n",
        "\n",
        "    def getHp(self):\n",
        "        return self._hp\n",
        "\n",
        "    def setHp(self, new_hp):\n",
        "        self._hp = new_hp\n",
        "\n",
        "    def getDamage(self):\n",
        "        return self._damage\n",
        "\n",
        "    def setDamage(self, new_damage):\n",
        "        self._damage = new_damage  # Fixed typo here\n",
        "\n",
        "    def getStr(self):\n",
        "        return self._str\n",
        "\n",
        "    def setStr(self, new_str):\n",
        "        self._str = new_str\n",
        "\n",
        "    def getVit(self):\n",
        "        return self._vit\n",
        "\n",
        "    def setVit(self, new_vit):\n",
        "        self._vit = new_vit\n",
        "\n",
        "    def getInt(self):\n",
        "        return self._int\n",
        "\n",
        "    def setInt(self, new_int):\n",
        "        self._int = new_int\n",
        "\n",
        "    def getAgi(self):\n",
        "        return self._agi\n",
        "\n",
        "    def setAgi(self, new_agi):\n",
        "        self._agi = new_agi\n",
        "\n",
        "    def reduceHp(self, damage_amount):\n",
        "        self._hp = self._hp - damage_amount\n",
        "\n",
        "    def addHp(self, heal_amount):\n",
        "        self._hp = self._hp + heal_amount"
      ],
      "metadata": {
        "id": "zhhoHCcy9d_7"
      },
      "execution_count": 4,
      "outputs": []
    },
    {
      "cell_type": "code",
      "source": [
        "character1 = Character(\"Jezreel\")\n",
        "print(character1._username)\n",
        "print(character1.getUsername())"
      ],
      "metadata": {
        "colab": {
          "base_uri": "https://localhost:8080/"
        },
        "id": "vOq86n599fnl",
        "outputId": "c81572f0-6293-42ac-9303-6703f5e26bd1"
      },
      "execution_count": 3,
      "outputs": [
        {
          "output_type": "stream",
          "name": "stdout",
          "text": [
            "Jezreel\n",
            "Jezreel\n"
          ]
        }
      ]
    },
    {
      "cell_type": "markdown",
      "source": [
        "Observation: It shows two ways to get the username, one by directly using the variable, and the other by using a function made for it."
      ],
      "metadata": {
        "id": "ETzr0nvG9fOt"
      }
    },
    {
      "cell_type": "markdown",
      "source": [
        "#Single Inheritance"
      ],
      "metadata": {
        "id": "EgakwTFABY9X"
      }
    },
    {
      "cell_type": "code",
      "source": [
        "class Novice(Character):\n",
        "    def basicAttack(self, character):\n",
        "        character.reduceHp(self.getDamage())\n",
        "        print(f\"{self.getUsername()} performed Basic Attack! -{self.getDamage()}\")"
      ],
      "metadata": {
        "id": "ekMge3SMBeJ6"
      },
      "execution_count": 5,
      "outputs": []
    },
    {
      "cell_type": "code",
      "source": [
        "character1 = Novice(\"Jezreel\")\n",
        "print(character1.getUsername())\n",
        "print(character1.getHp())"
      ],
      "metadata": {
        "colab": {
          "base_uri": "https://localhost:8080/"
        },
        "id": "yLRI_clNBviL",
        "outputId": "557e7585-8cd4-4490-c030-d63b8c8648af"
      },
      "execution_count": 6,
      "outputs": [
        {
          "output_type": "stream",
          "name": "stdout",
          "text": [
            "Jezreel\n",
            "100\n"
          ]
        }
      ]
    },
    {
      "cell_type": "markdown",
      "source": [
        "#Multi-level Inheritance"
      ],
      "metadata": {
        "id": "PaeVqYdjB5se"
      }
    },
    {
      "cell_type": "code",
      "source": [
        "class Swordsman(Novice):\n",
        "    def __init__(self, username):\n",
        "        super().__init__(username)\n",
        "        self.setStr(5)\n",
        "        self.setVit(10)\n",
        "        self.setHp(self.getHp() + self.getVit())\n",
        "\n",
        "    def slashAttack(self, character):\n",
        "        new_damage = self.getDamage() + self.getStr()\n",
        "        character.reduceHp(new_damage)\n",
        "        print(f\"{self.getUsername()} performed Slash Attack! -{new_damage}\")"
      ],
      "metadata": {
        "id": "nMon-PIeB9Tu"
      },
      "execution_count": 7,
      "outputs": []
    },
    {
      "cell_type": "code",
      "source": [
        "import random\n",
        "\n",
        "class Archer(Novice):\n",
        "    def __init__(self, username):\n",
        "        super().__init__(username)\n",
        "        self.setAgi(5)\n",
        "        self.setInt(5)\n",
        "        self.setVit(5)\n",
        "        self.setHp(self.getHp() + self.getVit())\n",
        "\n",
        "    def rangedAttack(self, character):\n",
        "        new_damage = self.getDamage() + random.randint(0, self.getInt())\n",
        "        character.reduceHp(new_damage)\n",
        "        print(f\"{self.getUsername()} performed Ranged Attack! -{new_damage}\")"
      ],
      "metadata": {
        "id": "P15-0S7ACDKG"
      },
      "execution_count": 9,
      "outputs": []
    },
    {
      "cell_type": "code",
      "source": [
        "class Magician(Novice):\n",
        "    def __init__(self, username):\n",
        "        super().__init__(username)  # Call Novice's constructor!!\n",
        "        self.setInt(10)\n",
        "        self.setVit(5)\n",
        "        self.setHp(self.getHp() + self.getVit())\n",
        "\n",
        "    def heal(self):\n",
        "        self.addHp(self.getInt())\n",
        "        print(f\"{self.getUsername()} performed Heal! +{self.getInt()}\")\n",
        "\n",
        "    def magicAttack(self, character):\n",
        "        new_damage = self.getDamage() + self.getInt()\n",
        "        character.reduceHp(new_damage)\n",
        "        print(f\"{self.getUsername()} performed Magic Attack! -{new_damage}\")"
      ],
      "metadata": {
        "id": "I5_4wkOZCDGq"
      },
      "execution_count": 10,
      "outputs": []
    },
    {
      "cell_type": "code",
      "source": [
        "Character1 = Swordsman(\"Royce\")\n",
        "Character2 = Magician(\"Archie\")\n",
        "\n",
        "print(f\"{Character1.getUsername()} HP: {Character1.getHp()}\")\n",
        "print(f\"{Character2.getUsername()} HP: {Character2.getHp()}\")\n",
        "\n",
        "Character1.slashAttack(Character2)\n",
        "Character1.basicAttack(Character2)  # Swordsman can also use basic attack\n",
        "\n",
        "print(f\"{Character1.getUsername()} HP: {Character1.getHp()}\")\n",
        "print(f\"{Character2.getUsername()} HP: {Character2.getHp()}\")\n",
        "\n",
        "Character2.heal()\n",
        "Character2.magicAttack(Character1)\n",
        "\n",
        "print(f\"{Character1.getUsername()} HP: {Character1.getHp()}\")\n",
        "print(f\"{Character2.getUsername()} HP: {Character2.getHp()}\")"
      ],
      "metadata": {
        "colab": {
          "base_uri": "https://localhost:8080/"
        },
        "id": "zFLQuJ44CC-z",
        "outputId": "c1f32f05-f6a4-4305-ecea-a61eca1f814b"
      },
      "execution_count": 11,
      "outputs": [
        {
          "output_type": "stream",
          "name": "stdout",
          "text": [
            "Royce HP: 110\n",
            "Archie HP: 105\n",
            "Royce performed Slash Attack! -10\n",
            "Royce performed Basic Attack! -5\n",
            "Royce HP: 110\n",
            "Archie HP: 90\n",
            "Archie performed Heal! +10\n",
            "Archie performed Magic Attack! -15\n",
            "Royce HP: 95\n",
            "Archie HP: 100\n"
          ]
        }
      ]
    },
    {
      "cell_type": "markdown",
      "source": [
        "#Multiple Inheritance"
      ],
      "metadata": {
        "id": "iHDfFhIHCXJb"
      }
    },
    {
      "cell_type": "code",
      "source": [
        "class Boss(Swordsman, Archer, Magician): # mult\n",
        "  def _init_(self, username):\n",
        "    super() .__init__(username)\n",
        "    self.setStr(10)\n",
        "    self.setVit(25)\n",
        "    self.setInt(5)\n",
        "    self.setHp(self.getHp()+self.getVit())"
      ],
      "metadata": {
        "id": "bgm6uglKCaiF"
      },
      "execution_count": 14,
      "outputs": []
    },
    {
      "cell_type": "code",
      "source": [
        "Character1 = Swordsman(\"Royce\")\n",
        "Character2 = Boss(\"Archie\")\n",
        "\n",
        "print(f\"{Character1.getUsername()} HP: {Character1.getHp()}\")\n",
        "print(f\"{Character2.getUsername()} HP: {Character2.getHp()}\")\n",
        "\n",
        "Character1.slashAttack(Character2)\n",
        "Character1.basicAttack(Character2)\n",
        "\n",
        "print(f\"{Character1.getUsername()} HP: {Character1.getHp()}\")\n",
        "print(f\"{Character2.getUsername()} HP: {Character2.getHp()}\")\n",
        "\n",
        "Character2.heal()\n",
        "Character2.basicAttack(Character1)\n",
        "Character2.slashAttack(Character1)\n",
        "Character2.rangedAttack(Character1)\n",
        "Character2.magicAttack(Character1)\n",
        "\n",
        "print(f\"{Character1.getUsername()} HP: {Character1.getHp()}\")\n",
        "print(f\"{Character2.getUsername()} HP: {Character2.getHp()}\")"
      ],
      "metadata": {
        "colab": {
          "base_uri": "https://localhost:8080/"
        },
        "id": "X-NQKbOoCaoS",
        "outputId": "cc32328d-39e4-4172-f974-792e7874af1d"
      },
      "execution_count": 15,
      "outputs": [
        {
          "output_type": "stream",
          "name": "stdout",
          "text": [
            "Royce HP: 110\n",
            "Archie HP: 120\n",
            "Royce performed Slash Attack! -10\n",
            "Royce performed Basic Attack! -5\n",
            "Royce HP: 110\n",
            "Archie HP: 105\n",
            "Archie performed Heal! +5\n",
            "Archie performed Basic Attack! -5\n",
            "Archie performed Slash Attack! -10\n",
            "Archie performed Ranged Attack! -9\n",
            "Archie performed Magic Attack! -10\n",
            "Royce HP: 76\n",
            "Archie HP: 110\n"
          ]
        }
      ]
    },
    {
      "cell_type": "markdown",
      "source": [
        "#Suplementary Activity"
      ],
      "metadata": {
        "id": "vlbE_EMrDiU0"
      }
    },
    {
      "cell_type": "code",
      "source": [
        "import random\n",
        "\n",
        "# Game Modes\n",
        "def single_player_mode():\n",
        "    victories = 0\n",
        "    name = input(\"Choose your hero's name: \")\n",
        "    player = Novice(name)\n",
        "    print(f\"\\nWelcome, {name}! You begin your journey as a Novice.\")\n",
        "\n",
        "    while True:\n",
        "        print(\"\\n🌟 New Encounter!\")\n",
        "        monster = Boss(\"Monster\")\n",
        "        participants = [player, monster]\n",
        "        random.shuffle(participants)\n",
        "        print(f\"First strike: {participants[0].getUsername()}!\")\n",
        "\n",
        "        while player.getHp() > 0 and monster.getHp() > 0:\n",
        "            for fighter in participants:\n",
        "                if player.getHp() <= 0 or monster.getHp() <= 0:\n",
        "                    break\n",
        "\n",
        "                target = monster if fighter == player else player\n",
        "                damage = random.randint(10, 20) if fighter == player else random.randint(5, 15)\n",
        "                target.reduceHp(damage)\n",
        "                print(f\"{fighter.getUsername()} strikes {target.getUsername()} for {damage} damage! --> {target.getHp()} HP left\")\n",
        "\n",
        "        if player.getHp() > 0:\n",
        "            victories += 1\n",
        "            print(\"\\nYou claimed victory!\")\n",
        "        else:\n",
        "            print(\"\\nDefeated by the Monster...\")\n",
        "\n",
        "        print(f\"Total Wins: {victories}\")\n",
        "\n",
        "        if victories == 2:\n",
        "            print(\"\\nYou've earned a class upgrade!\")\n",
        "            print(\"Choose your path:\")\n",
        "            print(\"  [1] Swordsman\\n  [2] Archer\\n  [3] Magician\")\n",
        "            new_class = input(\"Pick a number: \")\n",
        "            if new_class == \"1\":\n",
        "                player = Swordsman(name)\n",
        "            elif new_class == \"2\":\n",
        "                player = Archer(name)\n",
        "            elif new_class == \"3\":\n",
        "                player = Magician(name)\n",
        "            else:\n",
        "                print(\"Sticking with your current role.\")\n",
        "\n",
        "        cont = input(\"\\nAnother round? (y/n): \")\n",
        "        if cont.lower() != \"y\":\n",
        "            break\n",
        "        player = type(player)(name)\n",
        "\n",
        "\n",
        "def player_vs_player_mode():\n",
        "    print(\"\\nPlayer vs Player Arena\")\n",
        "    name1 = input(\"Enter Player 1 name: \")\n",
        "    name2 = input(\"Enter Player 2 name: \")\n",
        "\n",
        "    roles = {\"1\": Novice, \"2\": Swordsman, \"3\": Archer, \"4\": Magician}\n",
        "    print(\"\\nAvailable Classes:\")\n",
        "    print(\"  [1] Novice\\n  [2] Swordsman\\n  [3] Archer\\n  [4] Magician\")\n",
        "\n",
        "    r1 = input(f\"{name1}, choose your class: \")\n",
        "    r2 = input(f\"{name2}, choose your class: \")\n",
        "\n",
        "    p1 = roles.get(r1, Novice)(name1)\n",
        "    p2 = roles.get(r2, Novice)(name2)\n",
        "\n",
        "    win_record = {name1: 0, name2: 0}\n",
        "\n",
        "    while True:\n",
        "        print(\"\\nNew Duel Begins!\")\n",
        "        order = [p1, p2]\n",
        "        random.shuffle(order)\n",
        "        print(f\"{order[0].getUsername()} goes first!\")\n",
        "\n",
        "        while p1.getHp() > 0 and p2.getHp() > 0:\n",
        "            for turn in order:\n",
        "                if p1.getHp() <= 0 or p2.getHp() <= 0:\n",
        "                    break\n",
        "\n",
        "                enemy = p2 if turn == p1 else p1\n",
        "                hit = random.randint(10, 20)\n",
        "                enemy.reduceHp(hit)\n",
        "                print(f\"{turn.getUsername()} hits {enemy.getUsername()} for {hit} --> {enemy.getHp()} HP left\")\n",
        "\n",
        "        if p1.getHp() > 0:\n",
        "            win_record[name1] += 1\n",
        "            print(f\"{name1} wins this round!\")\n",
        "        else:\n",
        "            win_record[name2] += 1\n",
        "            print(f\"{name2} wins this round!\")\n",
        "\n",
        "        print(f\"Scoreboard: {name1} {win_record[name1]} - {win_record[name2]} {name2}\")\n",
        "\n",
        "        again = input(\"Play another match? (y/n): \")\n",
        "        if again.lower() != \"y\":\n",
        "            break\n",
        "        p1 = type(p1)(name1)\n",
        "        p2 = type(p2)(name2)\n",
        "\n",
        "\n",
        "def main():\n",
        "    print(\"\\nWelcome to the Battle Game\")\n",
        "    print(\"Select a game mode:\")\n",
        "    print(\"  [1] Single Player\\n  [2] Player vs Player\")\n",
        "    mode = input(\"Choose your mode (1/2): \")\n",
        "\n",
        "    if mode == \"1\":\n",
        "        single_player_mode()\n",
        "    elif mode == \"2\":\n",
        "        player_vs_player_mode()\n",
        "    else:\n",
        "        print(\"Invalid selection. Please restart the game.\")\n",
        "\n",
        "\n",
        "if __name__ == \"__main__\":\n",
        "    main()"
      ],
      "metadata": {
        "colab": {
          "base_uri": "https://localhost:8080/"
        },
        "id": "_z9pQcliGfgv",
        "outputId": "ff7a99b3-1ea7-48fe-a791-dc232664e17c"
      },
      "execution_count": 28,
      "outputs": [
        {
          "name": "stdout",
          "output_type": "stream",
          "text": [
            "\n",
            "Welcome to the Battle Game\n",
            "Select a game mode:\n",
            "  [1] Single Player\n",
            "  [2] Player vs Player\n",
            "Choose your mode (1/2): 2\n",
            "\n",
            "Player vs Player Arena\n",
            "Enter Player 1 name: Jez\n",
            "Enter Player 2 name: Bry\n",
            "\n",
            "Available Classes:\n",
            "  [1] Novice\n",
            "  [2] Swordsman\n",
            "  [3] Archer\n",
            "  [4] Magician\n",
            "Jez, choose your class: 2\n",
            "Bry, choose your class: 4\n",
            "\n",
            "New Duel Begins!\n",
            "Jez goes first!\n",
            "Jez hits Bry for 10 --> 95 HP left\n",
            "Bry hits Jez for 13 --> 97 HP left\n",
            "Jez hits Bry for 15 --> 80 HP left\n",
            "Bry hits Jez for 11 --> 86 HP left\n",
            "Jez hits Bry for 14 --> 66 HP left\n",
            "Bry hits Jez for 13 --> 73 HP left\n",
            "Jez hits Bry for 20 --> 46 HP left\n",
            "Bry hits Jez for 12 --> 61 HP left\n",
            "Jez hits Bry for 12 --> 34 HP left\n",
            "Bry hits Jez for 14 --> 47 HP left\n",
            "Jez hits Bry for 10 --> 24 HP left\n",
            "Bry hits Jez for 17 --> 30 HP left\n",
            "Jez hits Bry for 14 --> 10 HP left\n",
            "Bry hits Jez for 16 --> 14 HP left\n",
            "Jez hits Bry for 17 --> -7 HP left\n",
            "Jez wins this round!\n",
            "Scoreboard: Jez 1 - 0 Bry\n",
            "Play another match? (y/n): n\n"
          ]
        }
      ]
    }
  ]
}