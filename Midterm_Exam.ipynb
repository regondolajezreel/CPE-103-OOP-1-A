{
  "nbformat": 4,
  "nbformat_minor": 0,
  "metadata": {
    "colab": {
      "provenance": [],
      "authorship_tag": "ABX9TyNIxWDDhhaAwMst7L0yEL4Z",
      "include_colab_link": true
    },
    "kernelspec": {
      "name": "python3",
      "display_name": "Python 3"
    },
    "language_info": {
      "name": "python"
    }
  },
  "cells": [
    {
      "cell_type": "markdown",
      "metadata": {
        "id": "view-in-github",
        "colab_type": "text"
      },
      "source": [
        "<a href=\"https://colab.research.google.com/github/regondolajezreel/CPE-103-OOP-1-A/blob/main/Midterm_Exam.ipynb\" target=\"_parent\"><img src=\"https://colab.research.google.com/assets/colab-badge.svg\" alt=\"Open In Colab\"/></a>"
      ]
    },
    {
      "cell_type": "markdown",
      "source": [
        "1-10."
      ],
      "metadata": {
        "id": "g6uIcw_ySSMy"
      }
    },
    {
      "cell_type": "code",
      "execution_count": 4,
      "metadata": {
        "colab": {
          "base_uri": "https://localhost:8080/"
        },
        "id": "m4805CM4RKCH",
        "outputId": "1ab2ced8-8012-4d7e-bc07-313db3ebb5ba"
      },
      "outputs": [
        {
          "output_type": "stream",
          "name": "stdout",
          "text": [
            "1\n",
            "2\n"
          ]
        }
      ],
      "source": [
        "i = 1\n",
        "while True:\n",
        "  if i % 3 == 0:\n",
        "    break\n",
        "  print(i)\n",
        "  i += 1"
      ]
    },
    {
      "cell_type": "markdown",
      "source": [
        "11-20."
      ],
      "metadata": {
        "id": "9jcmfqJCSs-B"
      }
    },
    {
      "cell_type": "code",
      "source": [
        "i = 0\n",
        "while i < 5:\n",
        "  print(i)\n",
        "  i += 1\n",
        "  if i == 3:\n",
        "    break\n",
        "\n",
        "else:\n",
        "  print(0)"
      ],
      "metadata": {
        "colab": {
          "base_uri": "https://localhost:8080/"
        },
        "id": "dCUFSr-tSthA",
        "outputId": "64d90127-ae31-495d-a11e-869afe4be52b"
      },
      "execution_count": 5,
      "outputs": [
        {
          "output_type": "stream",
          "name": "stdout",
          "text": [
            "0\n",
            "1\n",
            "2\n"
          ]
        }
      ]
    },
    {
      "cell_type": "markdown",
      "source": [
        "21-30."
      ],
      "metadata": {
        "id": "7scJaSKASuao"
      }
    },
    {
      "cell_type": "code",
      "source": [
        "def f1():\n",
        "  x = 15\n",
        "  print(x)\n",
        "x = 12\n",
        "f1()"
      ],
      "metadata": {
        "colab": {
          "base_uri": "https://localhost:8080/"
        },
        "id": "yHLgg8YeSuAx",
        "outputId": "6479ca3b-328f-42ea-b26c-79f9b042c8e6"
      },
      "execution_count": 6,
      "outputs": [
        {
          "output_type": "stream",
          "name": "stdout",
          "text": [
            "15\n"
          ]
        }
      ]
    },
    {
      "cell_type": "markdown",
      "source": [
        "31-40."
      ],
      "metadata": {
        "id": "4LvUPAXfSuyR"
      }
    },
    {
      "cell_type": "code",
      "source": [
        "class Person():\n",
        "  def __init__(self):\n",
        "    self.__name = \"Deafault name\"\n",
        "\n",
        "person1 = Person()\n",
        "print(self.__name)"
      ],
      "metadata": {
        "colab": {
          "base_uri": "https://localhost:8080/",
          "height": 176
        },
        "id": "BFEuVMsXSt3g",
        "outputId": "5cbe40f0-6494-47b4-9168-f0621e7e8fe6"
      },
      "execution_count": 8,
      "outputs": [
        {
          "output_type": "error",
          "ename": "NameError",
          "evalue": "name 'self' is not defined",
          "traceback": [
            "\u001b[0;31m---------------------------------------------------------------------------\u001b[0m",
            "\u001b[0;31mNameError\u001b[0m                                 Traceback (most recent call last)",
            "\u001b[0;32m<ipython-input-8-9e440e976d4b>\u001b[0m in \u001b[0;36m<cell line: 0>\u001b[0;34m()\u001b[0m\n\u001b[1;32m      4\u001b[0m \u001b[0;34m\u001b[0m\u001b[0m\n\u001b[1;32m      5\u001b[0m \u001b[0mperson1\u001b[0m \u001b[0;34m=\u001b[0m \u001b[0mPerson\u001b[0m\u001b[0;34m(\u001b[0m\u001b[0;34m)\u001b[0m\u001b[0;34m\u001b[0m\u001b[0;34m\u001b[0m\u001b[0m\n\u001b[0;32m----> 6\u001b[0;31m \u001b[0mprint\u001b[0m\u001b[0;34m(\u001b[0m\u001b[0mself\u001b[0m\u001b[0;34m.\u001b[0m\u001b[0m__name\u001b[0m\u001b[0;34m)\u001b[0m\u001b[0;34m\u001b[0m\u001b[0;34m\u001b[0m\u001b[0m\n\u001b[0m",
            "\u001b[0;31mNameError\u001b[0m: name 'self' is not defined"
          ]
        }
      ]
    },
    {
      "cell_type": "markdown",
      "source": [
        "41-60."
      ],
      "metadata": {
        "id": "IvhbjeYQSvFx"
      }
    },
    {
      "cell_type": "code",
      "source": [
        "class Person():\n",
        "  def __init__(self):\n",
        "    self.__name = \"Deafault name\"\n",
        "\n",
        "person1 = Person()\n",
        "person2 = Person()\n",
        "print(person1)\n",
        "print(person2)"
      ],
      "metadata": {
        "colab": {
          "base_uri": "https://localhost:8080/"
        },
        "id": "wS4IgsV4St0h",
        "outputId": "7a2ac54a-4132-4153-a5b8-85ce51ace467"
      },
      "execution_count": 10,
      "outputs": [
        {
          "output_type": "stream",
          "name": "stdout",
          "text": [
            "<__main__.Person object at 0x7e9edf452cd0>\n",
            "<__main__.Person object at 0x7e9edff44150>\n"
          ]
        }
      ]
    },
    {
      "cell_type": "markdown",
      "source": [
        "61-80."
      ],
      "metadata": {
        "id": "XBueU8MkSvaZ"
      }
    },
    {
      "cell_type": "code",
      "source": [
        "class Student():\n",
        "  def __init__(self, student_number, name,):\n",
        "    self.stu_number = student_number\n",
        "    self.stu_name = name\n",
        "\n",
        "class DSCOfficer(Student):\n",
        "  def __init__(self, department):\n",
        "    self.department = department\n",
        "    self.event_list = []\n",
        "\n",
        "  def initiateEvent(self, name):\n",
        "    self.event_list.append({'name': name})\n",
        "\n",
        "officer1 = DSCOfficer(\"CpE\")\n",
        "officer1.initiateEvent(\"General Assembly\")\n",
        "print(officer1.event_list)"
      ],
      "metadata": {
        "colab": {
          "base_uri": "https://localhost:8080/"
        },
        "id": "F88lu9k2XIup",
        "outputId": "646d6ddf-19ad-4a21-a8ee-0d5741842411"
      },
      "execution_count": 11,
      "outputs": [
        {
          "output_type": "stream",
          "name": "stdout",
          "text": [
            "[{'name': 'General Assembly'}]\n"
          ]
        }
      ]
    }
  ]
}